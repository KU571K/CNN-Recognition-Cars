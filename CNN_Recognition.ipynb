{
  "cells": [
    {
      "cell_type": "markdown",
      "metadata": {
        "id": "tAmSGukuR9Wq"
      },
      "source": [
        "**Распознавание изображений из набора данных MNIST, CIFAR-10 и базы автомобилей с помощью сверточных нейросетей**"
      ]
    },
    {
      "cell_type": "code",
      "execution_count": null,
      "metadata": {
        "id": "IXv7ELfARqb_"
      },
      "outputs": [],
      "source": [
        "from tensorflow.keras.datasets import mnist #Загружаем базу mnist\n",
        "from tensorflow.keras.datasets import cifar10 #Загружаем базу cifar10\n",
        "from tensorflow.keras.datasets import cifar100 #Загружаем базу cifar100\n",
        "\n",
        "from tensorflow.keras.models import Sequential #Сеть прямого распространения\n",
        "#Базовые слои для счёрточных сетей\n",
        "from tensorflow.keras.layers import Dense, Conv2D, MaxPooling2D, Flatten, Dropout, BatchNormalization\n",
        "from tensorflow.keras.preprocessing.image import ImageDataGenerator # работа с изображениями\n",
        "from tensorflow.keras.optimizers import Adam, Adadelta # оптимизаторы\n",
        "from tensorflow.keras import utils #Используем дял to_categoricall\n",
        "from tensorflow.keras.preprocessing import image #Для отрисовки изображений\n",
        "from google.colab import files #Для загрузки своей картинки\n",
        "import numpy as np #Библиотека работы с массивами\n",
        "import matplotlib.pyplot as plt #Для отрисовки графиков\n",
        "from PIL import Image #Для отрисовки изображений\n",
        "import random #Для генерации случайных чисел\n",
        "import math # Для округления\n",
        "import os #Для работы с файлами\n",
        "import pandas as pd\n",
        "# подключем диск\n",
        "from google.colab import drive\n",
        "\n",
        "%matplotlib inline"
      ]
    },
    {
      "cell_type": "code",
      "execution_count": null,
      "metadata": {
        "id": "kiupsHP0URxV",
        "colab": {
          "base_uri": "https://localhost:8080/"
        },
        "outputId": "65cea58b-c143-4237-f4d1-5b6e7583920b"
      },
      "outputs": [
        {
          "output_type": "stream",
          "name": "stdout",
          "text": [
            "Mounted at /content/drive\n"
          ]
        }
      ],
      "source": [
        "from google.colab import drive\n",
        "drive.mount('/content/drive')"
      ]
    },
    {
      "cell_type": "markdown",
      "metadata": {
        "id": "AszWNOe3Uhji"
      },
      "source": [
        "#**Распознование изображений MNIST**\n",
        "\n",
        "✔ Лёгкий уровень сложности"
      ]
    },
    {
      "cell_type": "code",
      "execution_count": null,
      "metadata": {
        "colab": {
          "base_uri": "https://localhost:8080/"
        },
        "id": "IfRByGhBUgtv",
        "outputId": "6660bfa3-e8fa-48c6-ee23-862ccc46f22d"
      },
      "outputs": [
        {
          "output_type": "stream",
          "name": "stdout",
          "text": [
            "Downloading data from https://storage.googleapis.com/tensorflow/tf-keras-datasets/mnist.npz\n",
            "11490434/11490434 [==============================] - 0s 0us/step\n"
          ]
        }
      ],
      "source": [
        "# загрузка базы mnist\n",
        "(x_train, y_train), (x_test, y_test) = mnist.load_data()"
      ]
    },
    {
      "cell_type": "code",
      "execution_count": null,
      "metadata": {
        "colab": {
          "base_uri": "https://localhost:8080/"
        },
        "id": "e8KzGgVXUwW3",
        "outputId": "cb977860-ab82-47d8-917c-edd398268553"
      },
      "outputs": [
        {
          "output_type": "execute_result",
          "data": {
            "text/plain": [
              "(60000, 28, 28)"
            ]
          },
          "metadata": {},
          "execution_count": 4
        }
      ],
      "source": [
        "x_train.shape"
      ]
    },
    {
      "cell_type": "code",
      "execution_count": null,
      "metadata": {
        "colab": {
          "base_uri": "https://localhost:8080/",
          "height": 85
        },
        "id": "KJlQgJcMUxMG",
        "outputId": "fc67f7ee-0427-4f6f-d744-72dfbc8b642c"
      },
      "outputs": [
        {
          "output_type": "display_data",
          "data": {
            "text/plain": [
              "<Figure size 2500x300 with 10 Axes>"
            ],
            "image/png": "[encoded data removed]"
          },
          "metadata": {}
        }
      ],
      "source": [
        "# вывод картинок\n",
        "\n",
        "fig, axs = plt.subplots(1, 10, figsize=(25, 3)) # создание пространства для 10 графиков\n",
        "for i in range(10):\n",
        "  label_indexes = np.where(y_train==i)[0] # получаем список из индексов положений класса i в y_train\n",
        "  index = random.choice(label_indexes) # случайным образом выбираем из списка индекс\n",
        "  img = x_train[index] # выбираем из x_train нужное изображение\n",
        "  axs[i].imshow(Image.fromarray(img), cmap='gray') # отображение изображения\n",
        "\n",
        "plt.show() # выводим изображения"
      ]
    },
    {
      "cell_type": "code",
      "execution_count": null,
      "metadata": {
        "id": "f_Pq2Tx5VS81"
      },
      "outputs": [],
      "source": [
        "# превращение тренировочной и тестовой выборок в формат one-hot-encoding\n",
        "\n",
        "y_train = utils.to_categorical(y_train, 10)\n",
        "y_test = utils.to_categorical(y_test, 10)"
      ]
    },
    {
      "cell_type": "code",
      "execution_count": null,
      "metadata": {
        "id": "V-DuvKpyVf_h"
      },
      "outputs": [],
      "source": [
        "# 1 к размерности для определения чб цвета\n",
        "x_train = x_train.reshape(x_train.shape[0], 28, 28, 1)\n",
        "x_test = x_test.reshape(x_test.shape[0], 28, 28, 1)"
      ]
    },
    {
      "cell_type": "code",
      "execution_count": null,
      "metadata": {
        "colab": {
          "base_uri": "https://localhost:8080/"
        },
        "id": "rSwZpCowWeVo",
        "outputId": "aa755d7a-ba07-419a-976e-812bfd654788"
      },
      "outputs": [
        {
          "output_type": "stream",
          "name": "stdout",
          "text": [
            "(60000, 28, 28, 1)\n",
            "(10000, 28, 28, 1)\n",
            "(60000, 10)\n",
            "(10000, 10)\n"
          ]
        }
      ],
      "source": [
        "# форматы выборок\n",
        "print(x_train.shape)\n",
        "print(x_test.shape)\n",
        "print(y_train.shape)\n",
        "print(y_test.shape)"
      ]
    },
    {
      "cell_type": "markdown",
      "source": [
        "**Функция записи результатов в таблицу**"
      ],
      "metadata": {
        "id": "QlwLA20W4ygC"
      }
    },
    {
      "cell_type": "code",
      "source": [
        "# создание таблицы для записи результатов\n",
        "df = pd.DataFrame(columns=['model', 'neurons_num', 'activation', 'batch_size', 'accuracy'])"
      ],
      "metadata": {
        "id": "CxgpNg4l4x-A"
      },
      "execution_count": null,
      "outputs": []
    },
    {
      "cell_type": "code",
      "source": [
        "df"
      ],
      "metadata": {
        "colab": {
          "base_uri": "https://localhost:8080/",
          "height": 53
        },
        "id": "CaAOsk4l8zO4",
        "outputId": "c7c1a0d9-40e0-4347-8e7a-763dad7d68b7"
      },
      "execution_count": null,
      "outputs": [
        {
          "output_type": "execute_result",
          "data": {
            "text/plain": [
              "Empty DataFrame\n",
              "Columns: [model, neurons_num, activation, batch_size, accuracy]\n",
              "Index: []"
            ],
            "text/html": [
              "\n",
              "  <div id=\"df-6f827ab4-8ec0-4439-90e0-c702e2878083\" class=\"colab-df-container\">\n",
              "    <div>\n",
              "<style scoped>\n",
              "    .dataframe tbody tr th:only-of-type {\n",
              "        vertical-align: middle;\n",
              "    }\n",
              "\n",
              "    .dataframe tbody tr th {\n",
              "        vertical-align: top;\n",
              "    }\n",
              "\n",
              "    .dataframe thead th {\n",
              "        text-align: right;\n",
              "    }\n",
              "</style>\n",
              "<table border=\"1\" class=\"dataframe\">\n",
              "  <thead>\n",
              "    <tr style=\"text-align: right;\">\n",
              "      <th></th>\n",
              "      <th>model</th>\n",
              "      <th>neurons_num</th>\n",
              "      <th>activation</th>\n",
              "      <th>batch_size</th>\n",
              "      <th>accuracy</th>\n",
              "    </tr>\n",
              "  </thead>\n",
              "  <tbody>\n",
              "  </tbody>\n",
              "</table>\n",
              "</div>\n",
              "    <div class=\"colab-df-buttons\">\n",
              "\n",
              "  <div class=\"colab-df-container\">\n",
              "    <button class=\"colab-df-convert\" onclick=\"convertToInteractive('df-6f827ab4-8ec0-4439-90e0-c702e2878083')\"\n",
              "            title=\"Convert this dataframe to an interactive table.\"\n",
              "            style=\"display:none;\">\n",
              "\n",
              "  <svg xmlns=\"http://www.w3.org/2000/svg\" height=\"24px\" viewBox=\"0 -960 960 960\">\n",
              "    <path d=\"M120-120v-720h720v720H120Zm60-500h600v-160H180v160Zm220 220h160v-160H400v160Zm0 220h160v-160H400v160ZM180-400h160v-160H180v160Zm440 0h160v-160H620v160ZM180-180h160v-160H180v160Zm440 0h160v-160H620v160Z\"/>\n",
              "  </svg>\n",
              "    </button>\n",
              "\n",
              "  <style>\n",
              "    .colab-df-container {\n",
              "      display:flex;\n",
              "      gap: 12px;\n",
              "    }\n",
              "\n",
              "    .colab-df-convert {\n",
              "      background-color: #E8F0FE;\n",
              "      border: none;\n",
              "      border-radius: 50%;\n",
              "      cursor: pointer;\n",
              "      display: none;\n",
              "      fill: #1967D2;\n",
              "      height: 32px;\n",
              "      padding: 0 0 0 0;\n",
              "      width: 32px;\n",
              "    }\n",
              "\n",
              "    .colab-df-convert:hover {\n",
              "      background-color: #E2EBFA;\n",
              "      box-shadow: 0px 1px 2px rgba(60, 64, 67, 0.3), 0px 1px 3px 1px rgba(60, 64, 67, 0.15);\n",
              "      fill: #174EA6;\n",
              "    }\n",
              "\n",
              "    .colab-df-buttons div {\n",
              "      margin-bottom: 4px;\n",
              "    }\n",
              "\n",
              "    [theme=dark] .colab-df-convert {\n",
              "      background-color: #3B4455;\n",
              "      fill: #D2E3FC;\n",
              "    }\n",
              "\n",
              "    [theme=dark] .colab-df-convert:hover {\n",
              "      background-color: #434B5C;\n",
              "      box-shadow: 0px 1px 3px 1px rgba(0, 0, 0, 0.15);\n",
              "      filter: drop-shadow(0px 1px 2px rgba(0, 0, 0, 0.3));\n",
              "      fill: #FFFFFF;\n",
              "    }\n",
              "  </style>\n",
              "\n",
              "    <script>\n",
              "      const buttonEl =\n",
              "        document.querySelector('#df-6f827ab4-8ec0-4439-90e0-c702e2878083 button.colab-df-convert');\n",
              "      buttonEl.style.display =\n",
              "        google.colab.kernel.accessAllowed ? 'block' : 'none';\n",
              "\n",
              "      async function convertToInteractive(key) {\n",
              "        const element = document.querySelector('#df-6f827ab4-8ec0-4439-90e0-c702e2878083');\n",
              "        const dataTable =\n",
              "          await google.colab.kernel.invokeFunction('convertToInteractive',\n",
              "                                                    [key], {});\n",
              "        if (!dataTable) return;\n",
              "\n",
              "        const docLinkHtml = 'Like what you see? Visit the ' +\n",
              "          '<a target=\"_blank\" href=https://colab.research.google.com/notebooks/data_table.ipynb>data table notebook</a>'\n",
              "          + ' to learn more about interactive tables.';\n",
              "        element.innerHTML = '';\n",
              "        dataTable['output_type'] = 'display_data';\n",
              "        await google.colab.output.renderOutput(dataTable, element);\n",
              "        const docLink = document.createElement('div');\n",
              "        docLink.innerHTML = docLinkHtml;\n",
              "        element.appendChild(docLink);\n",
              "      }\n",
              "    </script>\n",
              "  </div>\n",
              "\n",
              "    </div>\n",
              "  </div>\n"
            ]
          },
          "metadata": {},
          "execution_count": 44
        }
      ]
    },
    {
      "cell_type": "markdown",
      "metadata": {
        "id": "--f-5kvSWkNh"
      },
      "source": [
        "**Нейронная сеть**"
      ]
    },
    {
      "cell_type": "code",
      "execution_count": null,
      "metadata": {
        "id": "m1rAYQ0BWl6f"
      },
      "outputs": [],
      "source": [
        "batch_size = 100\n",
        "\n",
        "# создаем последовательную модель\n",
        "model = Sequential()\n",
        "# первый сверточный слой\n",
        "model.add(Conv2D(32, (3, 3), padding='same', activation='linear', input_shape=(28, 28, 1)))\n",
        "# второй сверточный слой\n",
        "model.add(Conv2D(16, (3, 3), padding='same', activation='linear'))\n",
        "# первый слой подвыборки\n",
        "model.add(MaxPooling2D(pool_size=(2, 2)))\n",
        "# слой регуляризации Dropout\n",
        "model.add(Dropout(0.25))\n",
        "\n",
        "model.add(Flatten())\n",
        "# полносвязный слой для классификации\n",
        "model.add(Dense(256, activation='linear'))\n",
        "# слой регуляризации Dropout\n",
        "model.add(Dropout(0.25))\n",
        "# выходной полносвязный слой\n",
        "model.add(Dense(10, activation='softmax'))\n",
        "\n",
        "# компиляция\n",
        "model.compile(loss=\"categorical_crossentropy\", optimizer=\"adam\", metrics=[\"accuracy\"])"
      ]
    },
    {
      "cell_type": "code",
      "execution_count": null,
      "metadata": {
        "colab": {
          "base_uri": "https://localhost:8080/"
        },
        "id": "rIQkTHagXKsm",
        "outputId": "85f4b95a-7ad3-4131-8632-16663670b410"
      },
      "outputs": [
        {
          "output_type": "stream",
          "name": "stdout",
          "text": [
            "Model: \"sequential_18\"\n",
            "_________________________________________________________________\n",
            " Layer (type)                Output Shape              Param #   \n",
            "=================================================================\n",
            " conv2d_35 (Conv2D)          (None, 28, 28, 32)        320       \n",
            "                                                                 \n",
            " conv2d_36 (Conv2D)          (None, 28, 28, 16)        4624      \n",
            "                                                                 \n",
            " max_pooling2d_17 (MaxPooli  (None, 14, 14, 16)        0         \n",
            " ng2D)                                                           \n",
            "                                                                 \n",
            " dropout_34 (Dropout)        (None, 14, 14, 16)        0         \n",
            "                                                                 \n",
            " flatten_17 (Flatten)        (None, 3136)              0         \n",
            "                                                                 \n",
            " dense_34 (Dense)            (None, 256)               803072    \n",
            "                                                                 \n",
            " dropout_35 (Dropout)        (None, 256)               0         \n",
            "                                                                 \n",
            " dense_35 (Dense)            (None, 10)                2570      \n",
            "                                                                 \n",
            "=================================================================\n",
            "Total params: 810586 (3.09 MB)\n",
            "Trainable params: 810586 (3.09 MB)\n",
            "Non-trainable params: 0 (0.00 Byte)\n",
            "_________________________________________________________________\n"
          ]
        }
      ],
      "source": [
        "model.summary()"
      ]
    },
    {
      "cell_type": "code",
      "execution_count": null,
      "metadata": {
        "colab": {
          "base_uri": "https://localhost:8080/",
          "height": 816
        },
        "id": "SWyda3NwXw7t",
        "outputId": "569ceb51-cf8f-40f0-e5f9-e982a5240c21"
      },
      "outputs": [
        {
          "output_type": "stream",
          "name": "stdout",
          "text": [
            "Epoch 1/10\n",
            "600/600 [==============================] - 5s 6ms/step - loss: 2.6443 - accuracy: 0.8842 - val_loss: 0.5130 - val_accuracy: 0.9520\n",
            "Epoch 2/10\n",
            "600/600 [==============================] - 4s 6ms/step - loss: 0.6294 - accuracy: 0.9297 - val_loss: 0.3047 - val_accuracy: 0.9533\n",
            "Epoch 3/10\n",
            "600/600 [==============================] - 6s 10ms/step - loss: 0.3571 - accuracy: 0.9411 - val_loss: 0.2043 - val_accuracy: 0.9606\n",
            "Epoch 4/10\n",
            "600/600 [==============================] - 4s 6ms/step - loss: 0.2284 - accuracy: 0.9504 - val_loss: 0.1751 - val_accuracy: 0.9594\n",
            "Epoch 5/10\n",
            "600/600 [==============================] - 3s 5ms/step - loss: 0.1800 - accuracy: 0.9550 - val_loss: 0.1440 - val_accuracy: 0.9628\n",
            "Epoch 6/10\n",
            "600/600 [==============================] - 3s 5ms/step - loss: 0.1540 - accuracy: 0.9588 - val_loss: 0.1276 - val_accuracy: 0.9673\n",
            "Epoch 7/10\n",
            "600/600 [==============================] - 4s 6ms/step - loss: 0.1471 - accuracy: 0.9580 - val_loss: 0.1396 - val_accuracy: 0.9603\n",
            "Epoch 8/10\n",
            "600/600 [==============================] - 3s 5ms/step - loss: 0.1506 - accuracy: 0.9573 - val_loss: 0.1219 - val_accuracy: 0.9665\n",
            "Epoch 9/10\n",
            "600/600 [==============================] - 3s 5ms/step - loss: 0.1559 - accuracy: 0.9566 - val_loss: 0.1467 - val_accuracy: 0.9625\n",
            "Epoch 10/10\n",
            "600/600 [==============================] - 3s 5ms/step - loss: 0.1645 - accuracy: 0.9544 - val_loss: 0.1458 - val_accuracy: 0.9598\n"
          ]
        },
        {
          "output_type": "display_data",
          "data": {
            "text/plain": [
              "<Figure size 640x480 with 1 Axes>"
            ],
            "image/png": "[encoded data removed]"
          },
          "metadata": {}
        }
      ],
      "source": [
        "# обучаем сеть на данных mnist\n",
        "history = model.fit(x_train,\n",
        "                    y_train,\n",
        "                    batch_size=batch_size,\n",
        "                    epochs=10,\n",
        "                    validation_data=(x_test, y_test),\n",
        "                    verbose=1)\n",
        "\n",
        "# график точности обучения\n",
        "plt.plot(history.history['accuracy'],\n",
        "         label='Доля верных ответов на обучающем наборе')\n",
        "plt.plot(history.history['val_accuracy'],\n",
        "         label='Доля верных ответов на проверочном наборе')\n",
        "plt.xlabel('Эпоха обучения')\n",
        "plt.ylabel('Доля верных ответов')\n",
        "plt.legend()\n",
        "plt.show()"
      ]
    },
    {
      "cell_type": "code",
      "source": [
        "# поиск максимального показателя точности\n",
        "accuracy = history.history['accuracy']\n",
        "max_accuracy = max(accuracy)\n",
        "max_accuracy_index = accuracy.index(max(accuracy))\n",
        "max_accuracy = accuracy[max_accuracy_index]"
      ],
      "metadata": {
        "id": "lfsQ_YYdAaYJ"
      },
      "execution_count": null,
      "outputs": []
    },
    {
      "cell_type": "code",
      "source": [
        "new_row = {'accuracy': max_accuracy, 'model': 'model_12', 'neurons_num': '16', 'activation': 'linear', 'batch_size': '100'}"
      ],
      "metadata": {
        "id": "cmPWBCaT__6w"
      },
      "execution_count": null,
      "outputs": []
    },
    {
      "cell_type": "code",
      "source": [
        "df.loc[len(df)] = new_row"
      ],
      "metadata": {
        "id": "b68eMZecDmZC"
      },
      "execution_count": null,
      "outputs": []
    },
    {
      "cell_type": "code",
      "source": [
        "df"
      ],
      "metadata": {
        "id": "d9cOwGCzJxOC"
      },
      "execution_count": null,
      "outputs": []
    },
    {
      "cell_type": "code",
      "source": [
        "accuracy_column = ['accuracy']"
      ],
      "metadata": {
        "id": "S7zgiwTNWbp4"
      },
      "execution_count": null,
      "outputs": []
    },
    {
      "cell_type": "code",
      "source": [
        "# выделение максимального и минимального значений\n",
        "styled_table = df.style.highlight_max(color='lightgreen', axis=0, subset=accuracy_column)\n",
        "styled_table.highlight_min(color='pink', axis=0, subset=accuracy_column)\n",
        "display(styled_table)"
      ],
      "metadata": {
        "colab": {
          "base_uri": "https://localhost:8080/",
          "height": 425
        },
        "id": "Z8T5fPEMVgha",
        "outputId": "033aea84-9a74-419e-f75c-455bf6be7c33"
      },
      "execution_count": null,
      "outputs": [
        {
          "output_type": "display_data",
          "data": {
            "text/plain": [
              "<pandas.io.formats.style.Styler at 0x7ef5711c25c0>"
            ],
            "text/html": [
              "<style type=\"text/css\">\n",
              "#T_8f25c_row6_col4 {\n",
              "  background-color: pink;\n",
              "}\n",
              "#T_8f25c_row9_col4 {\n",
              "  background-color: lightgreen;\n",
              "}\n",
              "</style>\n",
              "<table id=\"T_8f25c\" class=\"dataframe\">\n",
              "  <thead>\n",
              "    <tr>\n",
              "      <th class=\"blank level0\" >&nbsp;</th>\n",
              "      <th id=\"T_8f25c_level0_col0\" class=\"col_heading level0 col0\" >model</th>\n",
              "      <th id=\"T_8f25c_level0_col1\" class=\"col_heading level0 col1\" >neurons_num</th>\n",
              "      <th id=\"T_8f25c_level0_col2\" class=\"col_heading level0 col2\" >activation</th>\n",
              "      <th id=\"T_8f25c_level0_col3\" class=\"col_heading level0 col3\" >batch_size</th>\n",
              "      <th id=\"T_8f25c_level0_col4\" class=\"col_heading level0 col4\" >accuracy</th>\n",
              "    </tr>\n",
              "  </thead>\n",
              "  <tbody>\n",
              "    <tr>\n",
              "      <th id=\"T_8f25c_level0_row0\" class=\"row_heading level0 row0\" >0</th>\n",
              "      <td id=\"T_8f25c_row0_col0\" class=\"data row0 col0\" >model_1</td>\n",
              "      <td id=\"T_8f25c_row0_col1\" class=\"data row0 col1\" >2</td>\n",
              "      <td id=\"T_8f25c_row0_col2\" class=\"data row0 col2\" >relu</td>\n",
              "      <td id=\"T_8f25c_row0_col3\" class=\"data row0 col3\" >10</td>\n",
              "      <td id=\"T_8f25c_row0_col4\" class=\"data row0 col4\" >0.973633</td>\n",
              "    </tr>\n",
              "    <tr>\n",
              "      <th id=\"T_8f25c_level0_row1\" class=\"row_heading level0 row1\" >1</th>\n",
              "      <td id=\"T_8f25c_row1_col0\" class=\"data row1 col0\" >model_2</td>\n",
              "      <td id=\"T_8f25c_row1_col1\" class=\"data row1 col1\" >2</td>\n",
              "      <td id=\"T_8f25c_row1_col2\" class=\"data row1 col2\" >relu</td>\n",
              "      <td id=\"T_8f25c_row1_col3\" class=\"data row1 col3\" >100</td>\n",
              "      <td id=\"T_8f25c_row1_col4\" class=\"data row1 col4\" >0.972033</td>\n",
              "    </tr>\n",
              "    <tr>\n",
              "      <th id=\"T_8f25c_level0_row2\" class=\"row_heading level0 row2\" >2</th>\n",
              "      <td id=\"T_8f25c_row2_col0\" class=\"data row2 col0\" >model_3</td>\n",
              "      <td id=\"T_8f25c_row2_col1\" class=\"data row2 col1\" >2</td>\n",
              "      <td id=\"T_8f25c_row2_col2\" class=\"data row2 col2\" >linear</td>\n",
              "      <td id=\"T_8f25c_row2_col3\" class=\"data row2 col3\" >10</td>\n",
              "      <td id=\"T_8f25c_row2_col4\" class=\"data row2 col4\" >0.925917</td>\n",
              "    </tr>\n",
              "    <tr>\n",
              "      <th id=\"T_8f25c_level0_row3\" class=\"row_heading level0 row3\" >3</th>\n",
              "      <td id=\"T_8f25c_row3_col0\" class=\"data row3 col0\" >model_4</td>\n",
              "      <td id=\"T_8f25c_row3_col1\" class=\"data row3 col1\" >2</td>\n",
              "      <td id=\"T_8f25c_row3_col2\" class=\"data row3 col2\" >linear</td>\n",
              "      <td id=\"T_8f25c_row3_col3\" class=\"data row3 col3\" >100</td>\n",
              "      <td id=\"T_8f25c_row3_col4\" class=\"data row3 col4\" >0.937450</td>\n",
              "    </tr>\n",
              "    <tr>\n",
              "      <th id=\"T_8f25c_level0_row4\" class=\"row_heading level0 row4\" >4</th>\n",
              "      <td id=\"T_8f25c_row4_col0\" class=\"data row4 col0\" >model_5</td>\n",
              "      <td id=\"T_8f25c_row4_col1\" class=\"data row4 col1\" >4</td>\n",
              "      <td id=\"T_8f25c_row4_col2\" class=\"data row4 col2\" >relu</td>\n",
              "      <td id=\"T_8f25c_row4_col3\" class=\"data row4 col3\" >10</td>\n",
              "      <td id=\"T_8f25c_row4_col4\" class=\"data row4 col4\" >0.979917</td>\n",
              "    </tr>\n",
              "    <tr>\n",
              "      <th id=\"T_8f25c_level0_row5\" class=\"row_heading level0 row5\" >5</th>\n",
              "      <td id=\"T_8f25c_row5_col0\" class=\"data row5 col0\" >model_6</td>\n",
              "      <td id=\"T_8f25c_row5_col1\" class=\"data row5 col1\" >4</td>\n",
              "      <td id=\"T_8f25c_row5_col2\" class=\"data row5 col2\" >relu</td>\n",
              "      <td id=\"T_8f25c_row5_col3\" class=\"data row5 col3\" >100</td>\n",
              "      <td id=\"T_8f25c_row5_col4\" class=\"data row5 col4\" >0.984133</td>\n",
              "    </tr>\n",
              "    <tr>\n",
              "      <th id=\"T_8f25c_level0_row6\" class=\"row_heading level0 row6\" >6</th>\n",
              "      <td id=\"T_8f25c_row6_col0\" class=\"data row6 col0\" >model_7</td>\n",
              "      <td id=\"T_8f25c_row6_col1\" class=\"data row6 col1\" >4</td>\n",
              "      <td id=\"T_8f25c_row6_col2\" class=\"data row6 col2\" >linear</td>\n",
              "      <td id=\"T_8f25c_row6_col3\" class=\"data row6 col3\" >10</td>\n",
              "      <td id=\"T_8f25c_row6_col4\" class=\"data row6 col4\" >0.909400</td>\n",
              "    </tr>\n",
              "    <tr>\n",
              "      <th id=\"T_8f25c_level0_row7\" class=\"row_heading level0 row7\" >7</th>\n",
              "      <td id=\"T_8f25c_row7_col0\" class=\"data row7 col0\" >model_8</td>\n",
              "      <td id=\"T_8f25c_row7_col1\" class=\"data row7 col1\" >4</td>\n",
              "      <td id=\"T_8f25c_row7_col2\" class=\"data row7 col2\" >linear</td>\n",
              "      <td id=\"T_8f25c_row7_col3\" class=\"data row7 col3\" >100</td>\n",
              "      <td id=\"T_8f25c_row7_col4\" class=\"data row7 col4\" >0.936850</td>\n",
              "    </tr>\n",
              "    <tr>\n",
              "      <th id=\"T_8f25c_level0_row8\" class=\"row_heading level0 row8\" >8</th>\n",
              "      <td id=\"T_8f25c_row8_col0\" class=\"data row8 col0\" >model_9</td>\n",
              "      <td id=\"T_8f25c_row8_col1\" class=\"data row8 col1\" >16</td>\n",
              "      <td id=\"T_8f25c_row8_col2\" class=\"data row8 col2\" >relu</td>\n",
              "      <td id=\"T_8f25c_row8_col3\" class=\"data row8 col3\" >10</td>\n",
              "      <td id=\"T_8f25c_row8_col4\" class=\"data row8 col4\" >0.987100</td>\n",
              "    </tr>\n",
              "    <tr>\n",
              "      <th id=\"T_8f25c_level0_row9\" class=\"row_heading level0 row9\" >9</th>\n",
              "      <td id=\"T_8f25c_row9_col0\" class=\"data row9 col0\" >model_10</td>\n",
              "      <td id=\"T_8f25c_row9_col1\" class=\"data row9 col1\" >16</td>\n",
              "      <td id=\"T_8f25c_row9_col2\" class=\"data row9 col2\" >relu</td>\n",
              "      <td id=\"T_8f25c_row9_col3\" class=\"data row9 col3\" >100</td>\n",
              "      <td id=\"T_8f25c_row9_col4\" class=\"data row9 col4\" >0.989483</td>\n",
              "    </tr>\n",
              "    <tr>\n",
              "      <th id=\"T_8f25c_level0_row10\" class=\"row_heading level0 row10\" >10</th>\n",
              "      <td id=\"T_8f25c_row10_col0\" class=\"data row10 col0\" >model_11</td>\n",
              "      <td id=\"T_8f25c_row10_col1\" class=\"data row10 col1\" >16</td>\n",
              "      <td id=\"T_8f25c_row10_col2\" class=\"data row10 col2\" >linear</td>\n",
              "      <td id=\"T_8f25c_row10_col3\" class=\"data row10 col3\" >10</td>\n",
              "      <td id=\"T_8f25c_row10_col4\" class=\"data row10 col4\" >0.917133</td>\n",
              "    </tr>\n",
              "    <tr>\n",
              "      <th id=\"T_8f25c_level0_row11\" class=\"row_heading level0 row11\" >11</th>\n",
              "      <td id=\"T_8f25c_row11_col0\" class=\"data row11 col0\" >model_12</td>\n",
              "      <td id=\"T_8f25c_row11_col1\" class=\"data row11 col1\" >16</td>\n",
              "      <td id=\"T_8f25c_row11_col2\" class=\"data row11 col2\" >linear</td>\n",
              "      <td id=\"T_8f25c_row11_col3\" class=\"data row11 col3\" >100</td>\n",
              "      <td id=\"T_8f25c_row11_col4\" class=\"data row11 col4\" >0.958800</td>\n",
              "    </tr>\n",
              "  </tbody>\n",
              "</table>\n"
            ]
          },
          "metadata": {}
        }
      ]
    },
    {
      "cell_type": "markdown",
      "source": [
        "**Выводы**\n",
        "\n",
        "*(!) эксперименты с параметром batch_size, равному размеру всей базы (50000), провести не удалось, поскольку появлялась ошибка «ResourceExhaustedError: Graph execution error» (недостаток оперативной памяти)*\n",
        "\n",
        "* Значение метрики accuracy для всех моделей находится в диапазоне от 0.909 до 0.989, что говорит о высокой точности предсказаний всех моделей.\n",
        "* Модели с большим количеством нейронов (16) в скрытом слое показывают более высокие значения точности по сравнению с моделями с меньшим количеством нейронов (2 и 4).\n",
        "* Самый высокий показатель точности (0.989) установлен у модели со следующими параметрами: количество нейронов — 16, функция активации — relu, размер батча — 100.\n",
        "* Самый низкий показатель точности (0.909) установлен у модели со следующими параметрами: количество нейронов — 4, функция активации — linear, размер батча — 10.\n",
        "* Модель лучше работает с нелинейными зависимостями, так как модель показывала более высокие значения точности с использованием функции активации «relu» (от 97%), чем с использованием функции активации «linear» (от 90% до 95%).\n",
        "\n",
        "\n"
      ],
      "metadata": {
        "id": "sSDVI5ihXbOY"
      }
    },
    {
      "cell_type": "markdown",
      "metadata": {
        "id": "w38Tkz5YYVRt"
      },
      "source": [
        "#**Распознавание изображений из набора данных Cifar10**\n",
        "\n",
        "✔ Нормальный уровень сложности"
      ]
    },
    {
      "cell_type": "code",
      "source": [
        "(x_train10, y_train10), (x_test10, y_test10) = cifar10.load_data()"
      ],
      "metadata": {
        "id": "LvVRgTNJ__Cn",
        "colab": {
          "base_uri": "https://localhost:8080/"
        },
        "outputId": "6062d002-facb-4276-e22c-3a4a60c31934"
      },
      "execution_count": null,
      "outputs": [
        {
          "output_type": "stream",
          "name": "stdout",
          "text": [
            "Downloading data from https://www.cs.toronto.edu/~kriz/cifar-10-python.tar.gz\n",
            "170498071/170498071 [==============================] - 14s 0us/step\n"
          ]
        }
      ]
    },
    {
      "cell_type": "code",
      "source": [
        "print(f'Размер тренировочной выборки: {x_train10.shape}')"
      ],
      "metadata": {
        "colab": {
          "base_uri": "https://localhost:8080/"
        },
        "id": "CyNA1vyJHBLa",
        "outputId": "002ee130-6287-4ef3-8e1b-c4def091155a"
      },
      "execution_count": null,
      "outputs": [
        {
          "output_type": "stream",
          "name": "stdout",
          "text": [
            "Размер тренировочной выборки: (50000, 32, 32, 3)\n"
          ]
        }
      ]
    },
    {
      "cell_type": "code",
      "source": [
        "# названия классов по порядку\n",
        "classes = ['самолет', 'автомобиль', 'птица', 'кот', 'олень', 'собака', 'лягушка', 'лошадь', 'корабль', 'грузовик']"
      ],
      "metadata": {
        "id": "FoMa_ZoHHLDG"
      },
      "execution_count": null,
      "outputs": []
    },
    {
      "cell_type": "code",
      "source": [
        "# вывод картинок по каждому классу для примера\n",
        "\n",
        "fig, axs = plt.subplots(1, 10, figsize=(25, 3)) # 10 графиков\n",
        "for i in range(10):\n",
        "  label_indexes = np.where(y_train10==i)[0] # список из индексов положений класса i в y_train\n",
        "  index = random.choice(label_indexes) # случайным образом выбираем из списка индекс\n",
        "  img = x_train10[index] # выбираем из x_train нужное изображение\n",
        "  axs[i].imshow(Image.fromarray(img)) # отображение\n",
        "\n",
        "plt.show()"
      ],
      "metadata": {
        "colab": {
          "base_uri": "https://localhost:8080/",
          "height": 167
        },
        "id": "Iag9YQhGHQaE",
        "outputId": "42fdc31d-127f-491d-b3ee-99a809f190e9"
      },
      "execution_count": null,
      "outputs": [
        {
          "output_type": "display_data",
          "data": {
            "text/plain": [
              "<Figure size 2500x300 with 10 Axes>"
            ],
            "image/png": "[encoded data removed]"
          },
          "metadata": {}
        }
      ]
    },
    {
      "cell_type": "code",
      "source": [
        "# преобразование y_train и y_test сетей в формат one-hot encoding\n",
        "y_train10 = utils.to_categorical(y_train10, 10)\n",
        "y_test10 = utils.to_categorical(y_test10, 10)"
      ],
      "metadata": {
        "id": "yZ8SqUwaIZmU"
      },
      "execution_count": null,
      "outputs": []
    },
    {
      "cell_type": "code",
      "source": [
        "# размеры выборок перед обучением\n",
        "print(x_train10.shape)\n",
        "print(x_test10.shape)\n",
        "print(y_train10.shape)\n",
        "print(y_test10.shape)"
      ],
      "metadata": {
        "colab": {
          "base_uri": "https://localhost:8080/"
        },
        "id": "Vf-cGAGTIfzd",
        "outputId": "341d2c83-fe42-4572-bfa8-57515f907484"
      },
      "execution_count": null,
      "outputs": [
        {
          "output_type": "stream",
          "name": "stdout",
          "text": [
            "(50000, 32, 32, 3)\n",
            "(10000, 32, 32, 3)\n",
            "(50000, 10)\n",
            "(10000, 10)\n"
          ]
        }
      ]
    },
    {
      "cell_type": "markdown",
      "source": [
        "**Нейронная сеть**"
      ],
      "metadata": {
        "id": "yffVbv0GIlVq"
      }
    },
    {
      "cell_type": "code",
      "source": [
        "# создание таблицы для сравнения количества слоев conv2d\n",
        "layers_num_conv2d = pd.DataFrame(columns=['model', 'num_of_layers', 'accuracy'])"
      ],
      "metadata": {
        "id": "Azp4JOLoNNfN"
      },
      "execution_count": null,
      "outputs": []
    },
    {
      "cell_type": "code",
      "source": [
        "# создание таблицы для сравнения нейронов в слоях conv2d\n",
        "neur_num_conv2d = pd.DataFrame(columns=['model', 'num_of_neurons', 'accuracy'])"
      ],
      "metadata": {
        "id": "58ziINKkOLv6"
      },
      "execution_count": null,
      "outputs": []
    },
    {
      "cell_type": "code",
      "source": [
        "# создание таблицы для сравнения MaxPooling2D\n",
        "maxp2d = pd.DataFrame(columns=['model', 'pool_size', 'accuracy'])"
      ],
      "metadata": {
        "id": "xi6gpu_sOMA1"
      },
      "execution_count": null,
      "outputs": []
    },
    {
      "cell_type": "code",
      "source": [
        "# создание таблицы для сравнения Dropout\n",
        "dropout = pd.DataFrame(columns=['model', 'rate', 'accuracy'])"
      ],
      "metadata": {
        "id": "82RuNqw5OMGD"
      },
      "execution_count": null,
      "outputs": []
    },
    {
      "cell_type": "code",
      "source": [
        "#задаём batch_size\n",
        "batch_size = 128\n",
        "\n",
        "# последовательная модель\n",
        "model = Sequential()\n",
        "# первый сверточный слой\n",
        "model.add(Conv2D(32, (3, 3), padding='same', activation='relu', input_shape=(32, 32, 3)))\n",
        "# второй сверточный слой\n",
        "model.add(Conv2D(32, (3, 3), padding='same', activation='relu'))\n",
        "# первый слой подвыборки\n",
        "model.add(MaxPooling2D(pool_size=(2, 2)))\n",
        "# слой регуляризации Dropout\n",
        "model.add(Dropout(0.25))\n",
        "\n",
        "# слой пакетной нормализации\n",
        "model.add(BatchNormalization())\n",
        "# третий сверточный слой\n",
        "model.add(Conv2D(64, (3, 3), padding='same', activation='relu'))\n",
        "# четвертый сверточный слой\n",
        "model.add(Conv2D(64, (3, 3), padding='same', activation='relu'))\n",
        "model.add(Conv2D(64, (3, 3), padding='same', activation='relu'))\n",
        "# второй слой подвыборки\n",
        "model.add(MaxPooling2D(pool_size=(2, 2)))\n",
        "# слой регуляризации Dropout\n",
        "model.add(Dropout(0.25))\n",
        "\n",
        "# слой пакетной нормализации\n",
        "model.add(BatchNormalization())\n",
        "# пятый сверточный слой\n",
        "model.add(Conv2D(128, (3, 3), padding='same', activation='relu'))\n",
        "# шестой сверточный слой\n",
        "model.add(Conv2D(128, (3, 3), padding='same', activation='relu'))\n",
        "# третий слой подвыборки\n",
        "model.add(MaxPooling2D(pool_size=(2, 2)))\n",
        "# слой регуляризации Dropout\n",
        "model.add(Dropout(0.25))\n",
        "\n",
        "# слой преобразования данных из 2D представления в плоское\n",
        "model.add(Flatten())\n",
        "# полносвязный слой для классификации\n",
        "model.add(Dense(512, activation='relu'))\n",
        "# слой регуляризации Dropout\n",
        "model.add(Dropout(0.25))\n",
        "# выходной полносвязный слой\n",
        "model.add(Dense(10, activation='softmax'))\n",
        "\n",
        "# компилируем сеть\n",
        "model.compile(loss=\"categorical_crossentropy\", optimizer=\"adam\", metrics=[\"accuracy\"])\n",
        "\n",
        "# обучение сети\n",
        "history = model.fit(x_train10,\n",
        "                    y_train10,\n",
        "                    batch_size=batch_size,\n",
        "                    epochs=10,\n",
        "                    validation_data=(x_test10, y_test10),\n",
        "                    verbose=1)\n",
        "\n",
        "# график точности обучения\n",
        "plt.plot(history.history['accuracy'],\n",
        "         label='Доля верных ответов на обучающем наборе')\n",
        "plt.plot(history.history['val_accuracy'],\n",
        "         label='Доля верных ответов на проверочном наборе')\n",
        "plt.xlabel('Эпоха обучения')\n",
        "plt.ylabel('Доля верных ответов')\n",
        "plt.legend()\n",
        "plt.show()"
      ],
      "metadata": {
        "colab": {
          "base_uri": "https://localhost:8080/",
          "height": 796
        },
        "id": "gmtYf-TBIjxW",
        "outputId": "ef2ca6ed-0cbe-4111-bd68-a8dbe2bb451f"
      },
      "execution_count": null,
      "outputs": [
        {
          "output_type": "stream",
          "name": "stdout",
          "text": [
            "Epoch 1/10\n",
            "391/391 [==============================] - 13s 20ms/step - loss: 1.5486 - accuracy: 0.4321 - val_loss: 1.2753 - val_accuracy: 0.5456\n",
            "Epoch 2/10\n",
            "391/391 [==============================] - 7s 19ms/step - loss: 1.1323 - accuracy: 0.5950 - val_loss: 0.9809 - val_accuracy: 0.6482\n",
            "Epoch 3/10\n",
            "391/391 [==============================] - 8s 19ms/step - loss: 0.9521 - accuracy: 0.6635 - val_loss: 1.0676 - val_accuracy: 0.6196\n",
            "Epoch 4/10\n",
            "391/391 [==============================] - 8s 19ms/step - loss: 0.8303 - accuracy: 0.7063 - val_loss: 0.8432 - val_accuracy: 0.7046\n",
            "Epoch 5/10\n",
            "391/391 [==============================] - 7s 19ms/step - loss: 0.7480 - accuracy: 0.7353 - val_loss: 0.7614 - val_accuracy: 0.7359\n",
            "Epoch 6/10\n",
            "391/391 [==============================] - 7s 19ms/step - loss: 0.6900 - accuracy: 0.7582 - val_loss: 0.6906 - val_accuracy: 0.7670\n",
            "Epoch 7/10\n",
            "391/391 [==============================] - 8s 20ms/step - loss: 0.6408 - accuracy: 0.7760 - val_loss: 0.6724 - val_accuracy: 0.7658\n",
            "Epoch 8/10\n",
            "391/391 [==============================] - 8s 19ms/step - loss: 0.6074 - accuracy: 0.7889 - val_loss: 0.7502 - val_accuracy: 0.7438\n",
            "Epoch 9/10\n",
            "391/391 [==============================] - 8s 19ms/step - loss: 0.5708 - accuracy: 0.8011 - val_loss: 0.6413 - val_accuracy: 0.7786\n",
            "Epoch 10/10\n",
            "391/391 [==============================] - 8s 19ms/step - loss: 0.5400 - accuracy: 0.8093 - val_loss: 0.6168 - val_accuracy: 0.7920\n"
          ]
        },
        {
          "output_type": "display_data",
          "data": {
            "text/plain": [
              "<Figure size 640x480 with 1 Axes>"
            ],
            "image/png": "[encoded data removed]"
          },
          "metadata": {}
        }
      ]
    },
    {
      "cell_type": "code",
      "source": [
        "# поиск максимального показателя точности\n",
        "accuracy = history.history['accuracy']\n",
        "max_accuracy = max(accuracy)\n",
        "max_accuracy_index = accuracy.index(max(accuracy))\n",
        "max_accuracy = accuracy[max_accuracy_index]"
      ],
      "metadata": {
        "id": "jtAoWmGwM2_5"
      },
      "execution_count": null,
      "outputs": []
    },
    {
      "cell_type": "markdown",
      "source": [
        "**Исследование влияния количества слоев Conv2D**"
      ],
      "metadata": {
        "id": "Sf5MZsYWW6zg"
      }
    },
    {
      "cell_type": "code",
      "source": [
        "new_row = {'accuracy': max_accuracy, 'model': 'model_3', 'num_of_layers': '10'}\n",
        "layers_num_conv2d.loc[len(layers_num_conv2d)] = new_row"
      ],
      "metadata": {
        "id": "ngFkPq0gSeIv"
      },
      "execution_count": null,
      "outputs": []
    },
    {
      "cell_type": "code",
      "source": [
        "layers_num_conv2d"
      ],
      "metadata": {
        "colab": {
          "base_uri": "https://localhost:8080/",
          "height": 143
        },
        "id": "ZOZkKahZWs-m",
        "outputId": "2e2e48a9-f5a8-428a-e847-6f4ef693387a"
      },
      "execution_count": null,
      "outputs": [
        {
          "output_type": "execute_result",
          "data": {
            "text/plain": [
              "     model num_of_layers  accuracy\n",
              "0  model_1             6   0.79856\n",
              "1  model_2             8   0.80500\n",
              "2  model_3            10   0.79606"
            ],
            "text/html": [
              "\n",
              "  <div id=\"df-a7f1672c-d4a5-44ab-809e-59b52bd28ac5\" class=\"colab-df-container\">\n",
              "    <div>\n",
              "<style scoped>\n",
              "    .dataframe tbody tr th:only-of-type {\n",
              "        vertical-align: middle;\n",
              "    }\n",
              "\n",
              "    .dataframe tbody tr th {\n",
              "        vertical-align: top;\n",
              "    }\n",
              "\n",
              "    .dataframe thead th {\n",
              "        text-align: right;\n",
              "    }\n",
              "</style>\n",
              "<table border=\"1\" class=\"dataframe\">\n",
              "  <thead>\n",
              "    <tr style=\"text-align: right;\">\n",
              "      <th></th>\n",
              "      <th>model</th>\n",
              "      <th>num_of_layers</th>\n",
              "      <th>accuracy</th>\n",
              "    </tr>\n",
              "  </thead>\n",
              "  <tbody>\n",
              "    <tr>\n",
              "      <th>0</th>\n",
              "      <td>model_1</td>\n",
              "      <td>6</td>\n",
              "      <td>0.79856</td>\n",
              "    </tr>\n",
              "    <tr>\n",
              "      <th>1</th>\n",
              "      <td>model_2</td>\n",
              "      <td>8</td>\n",
              "      <td>0.80500</td>\n",
              "    </tr>\n",
              "    <tr>\n",
              "      <th>2</th>\n",
              "      <td>model_3</td>\n",
              "      <td>10</td>\n",
              "      <td>0.79606</td>\n",
              "    </tr>\n",
              "  </tbody>\n",
              "</table>\n",
              "</div>\n",
              "    <div class=\"colab-df-buttons\">\n",
              "\n",
              "  <div class=\"colab-df-container\">\n",
              "    <button class=\"colab-df-convert\" onclick=\"convertToInteractive('df-a7f1672c-d4a5-44ab-809e-59b52bd28ac5')\"\n",
              "            title=\"Convert this dataframe to an interactive table.\"\n",
              "            style=\"display:none;\">\n",
              "\n",
              "  <svg xmlns=\"http://www.w3.org/2000/svg\" height=\"24px\" viewBox=\"0 -960 960 960\">\n",
              "    <path d=\"M120-120v-720h720v720H120Zm60-500h600v-160H180v160Zm220 220h160v-160H400v160Zm0 220h160v-160H400v160ZM180-400h160v-160H180v160Zm440 0h160v-160H620v160ZM180-180h160v-160H180v160Zm440 0h160v-160H620v160Z\"/>\n",
              "  </svg>\n",
              "    </button>\n",
              "\n",
              "  <style>\n",
              "    .colab-df-container {\n",
              "      display:flex;\n",
              "      gap: 12px;\n",
              "    }\n",
              "\n",
              "    .colab-df-convert {\n",
              "      background-color: #E8F0FE;\n",
              "      border: none;\n",
              "      border-radius: 50%;\n",
              "      cursor: pointer;\n",
              "      display: none;\n",
              "      fill: #1967D2;\n",
              "      height: 32px;\n",
              "      padding: 0 0 0 0;\n",
              "      width: 32px;\n",
              "    }\n",
              "\n",
              "    .colab-df-convert:hover {\n",
              "      background-color: #E2EBFA;\n",
              "      box-shadow: 0px 1px 2px rgba(60, 64, 67, 0.3), 0px 1px 3px 1px rgba(60, 64, 67, 0.15);\n",
              "      fill: #174EA6;\n",
              "    }\n",
              "\n",
              "    .colab-df-buttons div {\n",
              "      margin-bottom: 4px;\n",
              "    }\n",
              "\n",
              "    [theme=dark] .colab-df-convert {\n",
              "      background-color: #3B4455;\n",
              "      fill: #D2E3FC;\n",
              "    }\n",
              "\n",
              "    [theme=dark] .colab-df-convert:hover {\n",
              "      background-color: #434B5C;\n",
              "      box-shadow: 0px 1px 3px 1px rgba(0, 0, 0, 0.15);\n",
              "      filter: drop-shadow(0px 1px 2px rgba(0, 0, 0, 0.3));\n",
              "      fill: #FFFFFF;\n",
              "    }\n",
              "  </style>\n",
              "\n",
              "    <script>\n",
              "      const buttonEl =\n",
              "        document.querySelector('#df-a7f1672c-d4a5-44ab-809e-59b52bd28ac5 button.colab-df-convert');\n",
              "      buttonEl.style.display =\n",
              "        google.colab.kernel.accessAllowed ? 'block' : 'none';\n",
              "\n",
              "      async function convertToInteractive(key) {\n",
              "        const element = document.querySelector('#df-a7f1672c-d4a5-44ab-809e-59b52bd28ac5');\n",
              "        const dataTable =\n",
              "          await google.colab.kernel.invokeFunction('convertToInteractive',\n",
              "                                                    [key], {});\n",
              "        if (!dataTable) return;\n",
              "\n",
              "        const docLinkHtml = 'Like what you see? Visit the ' +\n",
              "          '<a target=\"_blank\" href=https://colab.research.google.com/notebooks/data_table.ipynb>data table notebook</a>'\n",
              "          + ' to learn more about interactive tables.';\n",
              "        element.innerHTML = '';\n",
              "        dataTable['output_type'] = 'display_data';\n",
              "        await google.colab.output.renderOutput(dataTable, element);\n",
              "        const docLink = document.createElement('div');\n",
              "        docLink.innerHTML = docLinkHtml;\n",
              "        element.appendChild(docLink);\n",
              "      }\n",
              "    </script>\n",
              "  </div>\n",
              "\n",
              "\n",
              "<div id=\"df-76cfd5c0-6cb1-422e-b39e-117d0801a95a\">\n",
              "  <button class=\"colab-df-quickchart\" onclick=\"quickchart('df-76cfd5c0-6cb1-422e-b39e-117d0801a95a')\"\n",
              "            title=\"Suggest charts.\"\n",
              "            style=\"display:none;\">\n",
              "\n",
              "<svg xmlns=\"http://www.w3.org/2000/svg\" height=\"24px\"viewBox=\"0 0 24 24\"\n",
              "     width=\"24px\">\n",
              "    <g>\n",
              "        <path d=\"M19 3H5c-1.1 0-2 .9-2 2v14c0 1.1.9 2 2 2h14c1.1 0 2-.9 2-2V5c0-1.1-.9-2-2-2zM9 17H7v-7h2v7zm4 0h-2V7h2v10zm4 0h-2v-4h2v4z\"/>\n",
              "    </g>\n",
              "</svg>\n",
              "  </button>\n",
              "\n",
              "<style>\n",
              "  .colab-df-quickchart {\n",
              "      --bg-color: #E8F0FE;\n",
              "      --fill-color: #1967D2;\n",
              "      --hover-bg-color: #E2EBFA;\n",
              "      --hover-fill-color: #174EA6;\n",
              "      --disabled-fill-color: #AAA;\n",
              "      --disabled-bg-color: #DDD;\n",
              "  }\n",
              "\n",
              "  [theme=dark] .colab-df-quickchart {\n",
              "      --bg-color: #3B4455;\n",
              "      --fill-color: #D2E3FC;\n",
              "      --hover-bg-color: #434B5C;\n",
              "      --hover-fill-color: #FFFFFF;\n",
              "      --disabled-bg-color: #3B4455;\n",
              "      --disabled-fill-color: #666;\n",
              "  }\n",
              "\n",
              "  .colab-df-quickchart {\n",
              "    background-color: var(--bg-color);\n",
              "    border: none;\n",
              "    border-radius: 50%;\n",
              "    cursor: pointer;\n",
              "    display: none;\n",
              "    fill: var(--fill-color);\n",
              "    height: 32px;\n",
              "    padding: 0;\n",
              "    width: 32px;\n",
              "  }\n",
              "\n",
              "  .colab-df-quickchart:hover {\n",
              "    background-color: var(--hover-bg-color);\n",
              "    box-shadow: 0 1px 2px rgba(60, 64, 67, 0.3), 0 1px 3px 1px rgba(60, 64, 67, 0.15);\n",
              "    fill: var(--button-hover-fill-color);\n",
              "  }\n",
              "\n",
              "  .colab-df-quickchart-complete:disabled,\n",
              "  .colab-df-quickchart-complete:disabled:hover {\n",
              "    background-color: var(--disabled-bg-color);\n",
              "    fill: var(--disabled-fill-color);\n",
              "    box-shadow: none;\n",
              "  }\n",
              "\n",
              "  .colab-df-spinner {\n",
              "    border: 2px solid var(--fill-color);\n",
              "    border-color: transparent;\n",
              "    border-bottom-color: var(--fill-color);\n",
              "    animation:\n",
              "      spin 1s steps(1) infinite;\n",
              "  }\n",
              "\n",
              "  @keyframes spin {\n",
              "    0% {\n",
              "      border-color: transparent;\n",
              "      border-bottom-color: var(--fill-color);\n",
              "      border-left-color: var(--fill-color);\n",
              "    }\n",
              "    20% {\n",
              "      border-color: transparent;\n",
              "      border-left-color: var(--fill-color);\n",
              "      border-top-color: var(--fill-color);\n",
              "    }\n",
              "    30% {\n",
              "      border-color: transparent;\n",
              "      border-left-color: var(--fill-color);\n",
              "      border-top-color: var(--fill-color);\n",
              "      border-right-color: var(--fill-color);\n",
              "    }\n",
              "    40% {\n",
              "      border-color: transparent;\n",
              "      border-right-color: var(--fill-color);\n",
              "      border-top-color: var(--fill-color);\n",
              "    }\n",
              "    60% {\n",
              "      border-color: transparent;\n",
              "      border-right-color: var(--fill-color);\n",
              "    }\n",
              "    80% {\n",
              "      border-color: transparent;\n",
              "      border-right-color: var(--fill-color);\n",
              "      border-bottom-color: var(--fill-color);\n",
              "    }\n",
              "    90% {\n",
              "      border-color: transparent;\n",
              "      border-bottom-color: var(--fill-color);\n",
              "    }\n",
              "  }\n",
              "</style>\n",
              "\n",
              "  <script>\n",
              "    async function quickchart(key) {\n",
              "      const quickchartButtonEl =\n",
              "        document.querySelector('#' + key + ' button');\n",
              "      quickchartButtonEl.disabled = true;  // To prevent multiple clicks.\n",
              "      quickchartButtonEl.classList.add('colab-df-spinner');\n",
              "      try {\n",
              "        const charts = await google.colab.kernel.invokeFunction(\n",
              "            'suggestCharts', [key], {});\n",
              "      } catch (error) {\n",
              "        console.error('Error during call to suggestCharts:', error);\n",
              "      }\n",
              "      quickchartButtonEl.classList.remove('colab-df-spinner');\n",
              "      quickchartButtonEl.classList.add('colab-df-quickchart-complete');\n",
              "    }\n",
              "    (() => {\n",
              "      let quickchartButtonEl =\n",
              "        document.querySelector('#df-76cfd5c0-6cb1-422e-b39e-117d0801a95a button');\n",
              "      quickchartButtonEl.style.display =\n",
              "        google.colab.kernel.accessAllowed ? 'block' : 'none';\n",
              "    })();\n",
              "  </script>\n",
              "</div>\n",
              "    </div>\n",
              "  </div>\n"
            ]
          },
          "metadata": {},
          "execution_count": 56
        }
      ]
    },
    {
      "cell_type": "markdown",
      "source": [
        "*   Увеличение количества слоев Conv2D может помочь улучшить точность модели. Это связано с тем, что каждый слой Conv2D извлекает различные признаки изображения, что позволяет модели учить более сложные и абстрактные паттерны.\n",
        "*   При использовании большого количества слоев Conv2D следует учитывать время обучения модели, так как обработка каждого слоя занимает дополнительное время.\n",
        "\n",
        "\n",
        "\n",
        "\n"
      ],
      "metadata": {
        "id": "LXIUkU8WUfu3"
      }
    },
    {
      "cell_type": "markdown",
      "source": [
        "**Исследование влияния количества нейронов (фильтров) в слоях conv2d**"
      ],
      "metadata": {
        "id": "VkWpH6Z6XDrr"
      }
    },
    {
      "cell_type": "code",
      "source": [
        "new_row = {'accuracy': max_accuracy, 'model': 'model_3', 'num_of_neurons': '128'}\n",
        "neur_num_conv2d.loc[len(neur_num_conv2d)] = new_row\n",
        "neur_num_conv2d"
      ],
      "metadata": {
        "colab": {
          "base_uri": "https://localhost:8080/",
          "height": 143
        },
        "id": "xctSQKk9W4A_",
        "outputId": "8df52e74-5375-4842-dc42-8981cb24c4b8"
      },
      "execution_count": null,
      "outputs": [
        {
          "output_type": "execute_result",
          "data": {
            "text/plain": [
              "     model num_of_neurons  accuracy\n",
              "0  model_1             32   0.79878\n",
              "1  model_2             64   0.81504\n",
              "2  model_3            128   0.82552"
            ],
            "text/html": [
              "\n",
              "  <div id=\"df-7b8c2bef-d85d-4ebb-a497-cd5c40524cdf\" class=\"colab-df-container\">\n",
              "    <div>\n",
              "<style scoped>\n",
              "    .dataframe tbody tr th:only-of-type {\n",
              "        vertical-align: middle;\n",
              "    }\n",
              "\n",
              "    .dataframe tbody tr th {\n",
              "        vertical-align: top;\n",
              "    }\n",
              "\n",
              "    .dataframe thead th {\n",
              "        text-align: right;\n",
              "    }\n",
              "</style>\n",
              "<table border=\"1\" class=\"dataframe\">\n",
              "  <thead>\n",
              "    <tr style=\"text-align: right;\">\n",
              "      <th></th>\n",
              "      <th>model</th>\n",
              "      <th>num_of_neurons</th>\n",
              "      <th>accuracy</th>\n",
              "    </tr>\n",
              "  </thead>\n",
              "  <tbody>\n",
              "    <tr>\n",
              "      <th>0</th>\n",
              "      <td>model_1</td>\n",
              "      <td>32</td>\n",
              "      <td>0.79878</td>\n",
              "    </tr>\n",
              "    <tr>\n",
              "      <th>1</th>\n",
              "      <td>model_2</td>\n",
              "      <td>64</td>\n",
              "      <td>0.81504</td>\n",
              "    </tr>\n",
              "    <tr>\n",
              "      <th>2</th>\n",
              "      <td>model_3</td>\n",
              "      <td>128</td>\n",
              "      <td>0.82552</td>\n",
              "    </tr>\n",
              "  </tbody>\n",
              "</table>\n",
              "</div>\n",
              "    <div class=\"colab-df-buttons\">\n",
              "\n",
              "  <div class=\"colab-df-container\">\n",
              "    <button class=\"colab-df-convert\" onclick=\"convertToInteractive('df-7b8c2bef-d85d-4ebb-a497-cd5c40524cdf')\"\n",
              "            title=\"Convert this dataframe to an interactive table.\"\n",
              "            style=\"display:none;\">\n",
              "\n",
              "  <svg xmlns=\"http://www.w3.org/2000/svg\" height=\"24px\" viewBox=\"0 -960 960 960\">\n",
              "    <path d=\"M120-120v-720h720v720H120Zm60-500h600v-160H180v160Zm220 220h160v-160H400v160Zm0 220h160v-160H400v160ZM180-400h160v-160H180v160Zm440 0h160v-160H620v160ZM180-180h160v-160H180v160Zm440 0h160v-160H620v160Z\"/>\n",
              "  </svg>\n",
              "    </button>\n",
              "\n",
              "  <style>\n",
              "    .colab-df-container {\n",
              "      display:flex;\n",
              "      gap: 12px;\n",
              "    }\n",
              "\n",
              "    .colab-df-convert {\n",
              "      background-color: #E8F0FE;\n",
              "      border: none;\n",
              "      border-radius: 50%;\n",
              "      cursor: pointer;\n",
              "      display: none;\n",
              "      fill: #1967D2;\n",
              "      height: 32px;\n",
              "      padding: 0 0 0 0;\n",
              "      width: 32px;\n",
              "    }\n",
              "\n",
              "    .colab-df-convert:hover {\n",
              "      background-color: #E2EBFA;\n",
              "      box-shadow: 0px 1px 2px rgba(60, 64, 67, 0.3), 0px 1px 3px 1px rgba(60, 64, 67, 0.15);\n",
              "      fill: #174EA6;\n",
              "    }\n",
              "\n",
              "    .colab-df-buttons div {\n",
              "      margin-bottom: 4px;\n",
              "    }\n",
              "\n",
              "    [theme=dark] .colab-df-convert {\n",
              "      background-color: #3B4455;\n",
              "      fill: #D2E3FC;\n",
              "    }\n",
              "\n",
              "    [theme=dark] .colab-df-convert:hover {\n",
              "      background-color: #434B5C;\n",
              "      box-shadow: 0px 1px 3px 1px rgba(0, 0, 0, 0.15);\n",
              "      filter: drop-shadow(0px 1px 2px rgba(0, 0, 0, 0.3));\n",
              "      fill: #FFFFFF;\n",
              "    }\n",
              "  </style>\n",
              "\n",
              "    <script>\n",
              "      const buttonEl =\n",
              "        document.querySelector('#df-7b8c2bef-d85d-4ebb-a497-cd5c40524cdf button.colab-df-convert');\n",
              "      buttonEl.style.display =\n",
              "        google.colab.kernel.accessAllowed ? 'block' : 'none';\n",
              "\n",
              "      async function convertToInteractive(key) {\n",
              "        const element = document.querySelector('#df-7b8c2bef-d85d-4ebb-a497-cd5c40524cdf');\n",
              "        const dataTable =\n",
              "          await google.colab.kernel.invokeFunction('convertToInteractive',\n",
              "                                                    [key], {});\n",
              "        if (!dataTable) return;\n",
              "\n",
              "        const docLinkHtml = 'Like what you see? Visit the ' +\n",
              "          '<a target=\"_blank\" href=https://colab.research.google.com/notebooks/data_table.ipynb>data table notebook</a>'\n",
              "          + ' to learn more about interactive tables.';\n",
              "        element.innerHTML = '';\n",
              "        dataTable['output_type'] = 'display_data';\n",
              "        await google.colab.output.renderOutput(dataTable, element);\n",
              "        const docLink = document.createElement('div');\n",
              "        docLink.innerHTML = docLinkHtml;\n",
              "        element.appendChild(docLink);\n",
              "      }\n",
              "    </script>\n",
              "  </div>\n",
              "\n",
              "\n",
              "<div id=\"df-be21c14b-cc23-453b-a6f7-34e1ed2d813c\">\n",
              "  <button class=\"colab-df-quickchart\" onclick=\"quickchart('df-be21c14b-cc23-453b-a6f7-34e1ed2d813c')\"\n",
              "            title=\"Suggest charts.\"\n",
              "            style=\"display:none;\">\n",
              "\n",
              "<svg xmlns=\"http://www.w3.org/2000/svg\" height=\"24px\"viewBox=\"0 0 24 24\"\n",
              "     width=\"24px\">\n",
              "    <g>\n",
              "        <path d=\"M19 3H5c-1.1 0-2 .9-2 2v14c0 1.1.9 2 2 2h14c1.1 0 2-.9 2-2V5c0-1.1-.9-2-2-2zM9 17H7v-7h2v7zm4 0h-2V7h2v10zm4 0h-2v-4h2v4z\"/>\n",
              "    </g>\n",
              "</svg>\n",
              "  </button>\n",
              "\n",
              "<style>\n",
              "  .colab-df-quickchart {\n",
              "      --bg-color: #E8F0FE;\n",
              "      --fill-color: #1967D2;\n",
              "      --hover-bg-color: #E2EBFA;\n",
              "      --hover-fill-color: #174EA6;\n",
              "      --disabled-fill-color: #AAA;\n",
              "      --disabled-bg-color: #DDD;\n",
              "  }\n",
              "\n",
              "  [theme=dark] .colab-df-quickchart {\n",
              "      --bg-color: #3B4455;\n",
              "      --fill-color: #D2E3FC;\n",
              "      --hover-bg-color: #434B5C;\n",
              "      --hover-fill-color: #FFFFFF;\n",
              "      --disabled-bg-color: #3B4455;\n",
              "      --disabled-fill-color: #666;\n",
              "  }\n",
              "\n",
              "  .colab-df-quickchart {\n",
              "    background-color: var(--bg-color);\n",
              "    border: none;\n",
              "    border-radius: 50%;\n",
              "    cursor: pointer;\n",
              "    display: none;\n",
              "    fill: var(--fill-color);\n",
              "    height: 32px;\n",
              "    padding: 0;\n",
              "    width: 32px;\n",
              "  }\n",
              "\n",
              "  .colab-df-quickchart:hover {\n",
              "    background-color: var(--hover-bg-color);\n",
              "    box-shadow: 0 1px 2px rgba(60, 64, 67, 0.3), 0 1px 3px 1px rgba(60, 64, 67, 0.15);\n",
              "    fill: var(--button-hover-fill-color);\n",
              "  }\n",
              "\n",
              "  .colab-df-quickchart-complete:disabled,\n",
              "  .colab-df-quickchart-complete:disabled:hover {\n",
              "    background-color: var(--disabled-bg-color);\n",
              "    fill: var(--disabled-fill-color);\n",
              "    box-shadow: none;\n",
              "  }\n",
              "\n",
              "  .colab-df-spinner {\n",
              "    border: 2px solid var(--fill-color);\n",
              "    border-color: transparent;\n",
              "    border-bottom-color: var(--fill-color);\n",
              "    animation:\n",
              "      spin 1s steps(1) infinite;\n",
              "  }\n",
              "\n",
              "  @keyframes spin {\n",
              "    0% {\n",
              "      border-color: transparent;\n",
              "      border-bottom-color: var(--fill-color);\n",
              "      border-left-color: var(--fill-color);\n",
              "    }\n",
              "    20% {\n",
              "      border-color: transparent;\n",
              "      border-left-color: var(--fill-color);\n",
              "      border-top-color: var(--fill-color);\n",
              "    }\n",
              "    30% {\n",
              "      border-color: transparent;\n",
              "      border-left-color: var(--fill-color);\n",
              "      border-top-color: var(--fill-color);\n",
              "      border-right-color: var(--fill-color);\n",
              "    }\n",
              "    40% {\n",
              "      border-color: transparent;\n",
              "      border-right-color: var(--fill-color);\n",
              "      border-top-color: var(--fill-color);\n",
              "    }\n",
              "    60% {\n",
              "      border-color: transparent;\n",
              "      border-right-color: var(--fill-color);\n",
              "    }\n",
              "    80% {\n",
              "      border-color: transparent;\n",
              "      border-right-color: var(--fill-color);\n",
              "      border-bottom-color: var(--fill-color);\n",
              "    }\n",
              "    90% {\n",
              "      border-color: transparent;\n",
              "      border-bottom-color: var(--fill-color);\n",
              "    }\n",
              "  }\n",
              "</style>\n",
              "\n",
              "  <script>\n",
              "    async function quickchart(key) {\n",
              "      const quickchartButtonEl =\n",
              "        document.querySelector('#' + key + ' button');\n",
              "      quickchartButtonEl.disabled = true;  // To prevent multiple clicks.\n",
              "      quickchartButtonEl.classList.add('colab-df-spinner');\n",
              "      try {\n",
              "        const charts = await google.colab.kernel.invokeFunction(\n",
              "            'suggestCharts', [key], {});\n",
              "      } catch (error) {\n",
              "        console.error('Error during call to suggestCharts:', error);\n",
              "      }\n",
              "      quickchartButtonEl.classList.remove('colab-df-spinner');\n",
              "      quickchartButtonEl.classList.add('colab-df-quickchart-complete');\n",
              "    }\n",
              "    (() => {\n",
              "      let quickchartButtonEl =\n",
              "        document.querySelector('#df-be21c14b-cc23-453b-a6f7-34e1ed2d813c button');\n",
              "      quickchartButtonEl.style.display =\n",
              "        google.colab.kernel.accessAllowed ? 'block' : 'none';\n",
              "    })();\n",
              "  </script>\n",
              "</div>\n",
              "    </div>\n",
              "  </div>\n"
            ]
          },
          "metadata": {},
          "execution_count": 66
        }
      ]
    },
    {
      "cell_type": "markdown",
      "source": [
        "\n",
        "\n",
        "* Увеличение количества нейронов (фильтров) в слоях Conv2D может помочь модели извлекать более сложные и детализированные признаки изображения, что повышает точность модели.\n",
        "* Однако при увеличении количества нейронов также следует учитывать время обучения модели и использование ресурсов. Большое количество нейронов требует больше вычислительной мощности и памяти.\n"
      ],
      "metadata": {
        "id": "LVeEeJYXYqGW"
      }
    },
    {
      "cell_type": "markdown",
      "source": [
        "**Исследование влияния MaxPooling2D в сети**"
      ],
      "metadata": {
        "id": "ToqwL_9GZ5KW"
      }
    },
    {
      "cell_type": "code",
      "source": [
        "new_row = {'accuracy': max_accuracy, 'model': 'model_3', 'pool_size': '4, 4'}\n",
        "maxp2d.loc[len(maxp2d)] = new_row\n",
        "maxp2d"
      ],
      "metadata": {
        "colab": {
          "base_uri": "https://localhost:8080/",
          "height": 143
        },
        "id": "vpihrYE_Z_Nj",
        "outputId": "1868084a-2823-4c3b-8dd6-b44a30a70214"
      },
      "execution_count": null,
      "outputs": [
        {
          "output_type": "execute_result",
          "data": {
            "text/plain": [
              "     model pool_size  accuracy\n",
              "0  model_1      2, 2   0.79856\n",
              "1  model_2      3, 3   0.78214\n",
              "2  model_3      4, 4   0.75946"
            ],
            "text/html": [
              "\n",
              "  <div id=\"df-2a71376c-5eae-427a-9871-4a62f01d4c19\" class=\"colab-df-container\">\n",
              "    <div>\n",
              "<style scoped>\n",
              "    .dataframe tbody tr th:only-of-type {\n",
              "        vertical-align: middle;\n",
              "    }\n",
              "\n",
              "    .dataframe tbody tr th {\n",
              "        vertical-align: top;\n",
              "    }\n",
              "\n",
              "    .dataframe thead th {\n",
              "        text-align: right;\n",
              "    }\n",
              "</style>\n",
              "<table border=\"1\" class=\"dataframe\">\n",
              "  <thead>\n",
              "    <tr style=\"text-align: right;\">\n",
              "      <th></th>\n",
              "      <th>model</th>\n",
              "      <th>pool_size</th>\n",
              "      <th>accuracy</th>\n",
              "    </tr>\n",
              "  </thead>\n",
              "  <tbody>\n",
              "    <tr>\n",
              "      <th>0</th>\n",
              "      <td>model_1</td>\n",
              "      <td>2, 2</td>\n",
              "      <td>0.79856</td>\n",
              "    </tr>\n",
              "    <tr>\n",
              "      <th>1</th>\n",
              "      <td>model_2</td>\n",
              "      <td>3, 3</td>\n",
              "      <td>0.78214</td>\n",
              "    </tr>\n",
              "    <tr>\n",
              "      <th>2</th>\n",
              "      <td>model_3</td>\n",
              "      <td>4, 4</td>\n",
              "      <td>0.75946</td>\n",
              "    </tr>\n",
              "  </tbody>\n",
              "</table>\n",
              "</div>\n",
              "    <div class=\"colab-df-buttons\">\n",
              "\n",
              "  <div class=\"colab-df-container\">\n",
              "    <button class=\"colab-df-convert\" onclick=\"convertToInteractive('df-2a71376c-5eae-427a-9871-4a62f01d4c19')\"\n",
              "            title=\"Convert this dataframe to an interactive table.\"\n",
              "            style=\"display:none;\">\n",
              "\n",
              "  <svg xmlns=\"http://www.w3.org/2000/svg\" height=\"24px\" viewBox=\"0 -960 960 960\">\n",
              "    <path d=\"M120-120v-720h720v720H120Zm60-500h600v-160H180v160Zm220 220h160v-160H400v160Zm0 220h160v-160H400v160ZM180-400h160v-160H180v160Zm440 0h160v-160H620v160ZM180-180h160v-160H180v160Zm440 0h160v-160H620v160Z\"/>\n",
              "  </svg>\n",
              "    </button>\n",
              "\n",
              "  <style>\n",
              "    .colab-df-container {\n",
              "      display:flex;\n",
              "      gap: 12px;\n",
              "    }\n",
              "\n",
              "    .colab-df-convert {\n",
              "      background-color: #E8F0FE;\n",
              "      border: none;\n",
              "      border-radius: 50%;\n",
              "      cursor: pointer;\n",
              "      display: none;\n",
              "      fill: #1967D2;\n",
              "      height: 32px;\n",
              "      padding: 0 0 0 0;\n",
              "      width: 32px;\n",
              "    }\n",
              "\n",
              "    .colab-df-convert:hover {\n",
              "      background-color: #E2EBFA;\n",
              "      box-shadow: 0px 1px 2px rgba(60, 64, 67, 0.3), 0px 1px 3px 1px rgba(60, 64, 67, 0.15);\n",
              "      fill: #174EA6;\n",
              "    }\n",
              "\n",
              "    .colab-df-buttons div {\n",
              "      margin-bottom: 4px;\n",
              "    }\n",
              "\n",
              "    [theme=dark] .colab-df-convert {\n",
              "      background-color: #3B4455;\n",
              "      fill: #D2E3FC;\n",
              "    }\n",
              "\n",
              "    [theme=dark] .colab-df-convert:hover {\n",
              "      background-color: #434B5C;\n",
              "      box-shadow: 0px 1px 3px 1px rgba(0, 0, 0, 0.15);\n",
              "      filter: drop-shadow(0px 1px 2px rgba(0, 0, 0, 0.3));\n",
              "      fill: #FFFFFF;\n",
              "    }\n",
              "  </style>\n",
              "\n",
              "    <script>\n",
              "      const buttonEl =\n",
              "        document.querySelector('#df-2a71376c-5eae-427a-9871-4a62f01d4c19 button.colab-df-convert');\n",
              "      buttonEl.style.display =\n",
              "        google.colab.kernel.accessAllowed ? 'block' : 'none';\n",
              "\n",
              "      async function convertToInteractive(key) {\n",
              "        const element = document.querySelector('#df-2a71376c-5eae-427a-9871-4a62f01d4c19');\n",
              "        const dataTable =\n",
              "          await google.colab.kernel.invokeFunction('convertToInteractive',\n",
              "                                                    [key], {});\n",
              "        if (!dataTable) return;\n",
              "\n",
              "        const docLinkHtml = 'Like what you see? Visit the ' +\n",
              "          '<a target=\"_blank\" href=https://colab.research.google.com/notebooks/data_table.ipynb>data table notebook</a>'\n",
              "          + ' to learn more about interactive tables.';\n",
              "        element.innerHTML = '';\n",
              "        dataTable['output_type'] = 'display_data';\n",
              "        await google.colab.output.renderOutput(dataTable, element);\n",
              "        const docLink = document.createElement('div');\n",
              "        docLink.innerHTML = docLinkHtml;\n",
              "        element.appendChild(docLink);\n",
              "      }\n",
              "    </script>\n",
              "  </div>\n",
              "\n",
              "\n",
              "<div id=\"df-ca4367d2-4bcd-4bc2-9501-bf4c764f3bba\">\n",
              "  <button class=\"colab-df-quickchart\" onclick=\"quickchart('df-ca4367d2-4bcd-4bc2-9501-bf4c764f3bba')\"\n",
              "            title=\"Suggest charts.\"\n",
              "            style=\"display:none;\">\n",
              "\n",
              "<svg xmlns=\"http://www.w3.org/2000/svg\" height=\"24px\"viewBox=\"0 0 24 24\"\n",
              "     width=\"24px\">\n",
              "    <g>\n",
              "        <path d=\"M19 3H5c-1.1 0-2 .9-2 2v14c0 1.1.9 2 2 2h14c1.1 0 2-.9 2-2V5c0-1.1-.9-2-2-2zM9 17H7v-7h2v7zm4 0h-2V7h2v10zm4 0h-2v-4h2v4z\"/>\n",
              "    </g>\n",
              "</svg>\n",
              "  </button>\n",
              "\n",
              "<style>\n",
              "  .colab-df-quickchart {\n",
              "      --bg-color: #E8F0FE;\n",
              "      --fill-color: #1967D2;\n",
              "      --hover-bg-color: #E2EBFA;\n",
              "      --hover-fill-color: #174EA6;\n",
              "      --disabled-fill-color: #AAA;\n",
              "      --disabled-bg-color: #DDD;\n",
              "  }\n",
              "\n",
              "  [theme=dark] .colab-df-quickchart {\n",
              "      --bg-color: #3B4455;\n",
              "      --fill-color: #D2E3FC;\n",
              "      --hover-bg-color: #434B5C;\n",
              "      --hover-fill-color: #FFFFFF;\n",
              "      --disabled-bg-color: #3B4455;\n",
              "      --disabled-fill-color: #666;\n",
              "  }\n",
              "\n",
              "  .colab-df-quickchart {\n",
              "    background-color: var(--bg-color);\n",
              "    border: none;\n",
              "    border-radius: 50%;\n",
              "    cursor: pointer;\n",
              "    display: none;\n",
              "    fill: var(--fill-color);\n",
              "    height: 32px;\n",
              "    padding: 0;\n",
              "    width: 32px;\n",
              "  }\n",
              "\n",
              "  .colab-df-quickchart:hover {\n",
              "    background-color: var(--hover-bg-color);\n",
              "    box-shadow: 0 1px 2px rgba(60, 64, 67, 0.3), 0 1px 3px 1px rgba(60, 64, 67, 0.15);\n",
              "    fill: var(--button-hover-fill-color);\n",
              "  }\n",
              "\n",
              "  .colab-df-quickchart-complete:disabled,\n",
              "  .colab-df-quickchart-complete:disabled:hover {\n",
              "    background-color: var(--disabled-bg-color);\n",
              "    fill: var(--disabled-fill-color);\n",
              "    box-shadow: none;\n",
              "  }\n",
              "\n",
              "  .colab-df-spinner {\n",
              "    border: 2px solid var(--fill-color);\n",
              "    border-color: transparent;\n",
              "    border-bottom-color: var(--fill-color);\n",
              "    animation:\n",
              "      spin 1s steps(1) infinite;\n",
              "  }\n",
              "\n",
              "  @keyframes spin {\n",
              "    0% {\n",
              "      border-color: transparent;\n",
              "      border-bottom-color: var(--fill-color);\n",
              "      border-left-color: var(--fill-color);\n",
              "    }\n",
              "    20% {\n",
              "      border-color: transparent;\n",
              "      border-left-color: var(--fill-color);\n",
              "      border-top-color: var(--fill-color);\n",
              "    }\n",
              "    30% {\n",
              "      border-color: transparent;\n",
              "      border-left-color: var(--fill-color);\n",
              "      border-top-color: var(--fill-color);\n",
              "      border-right-color: var(--fill-color);\n",
              "    }\n",
              "    40% {\n",
              "      border-color: transparent;\n",
              "      border-right-color: var(--fill-color);\n",
              "      border-top-color: var(--fill-color);\n",
              "    }\n",
              "    60% {\n",
              "      border-color: transparent;\n",
              "      border-right-color: var(--fill-color);\n",
              "    }\n",
              "    80% {\n",
              "      border-color: transparent;\n",
              "      border-right-color: var(--fill-color);\n",
              "      border-bottom-color: var(--fill-color);\n",
              "    }\n",
              "    90% {\n",
              "      border-color: transparent;\n",
              "      border-bottom-color: var(--fill-color);\n",
              "    }\n",
              "  }\n",
              "</style>\n",
              "\n",
              "  <script>\n",
              "    async function quickchart(key) {\n",
              "      const quickchartButtonEl =\n",
              "        document.querySelector('#' + key + ' button');\n",
              "      quickchartButtonEl.disabled = true;  // To prevent multiple clicks.\n",
              "      quickchartButtonEl.classList.add('colab-df-spinner');\n",
              "      try {\n",
              "        const charts = await google.colab.kernel.invokeFunction(\n",
              "            'suggestCharts', [key], {});\n",
              "      } catch (error) {\n",
              "        console.error('Error during call to suggestCharts:', error);\n",
              "      }\n",
              "      quickchartButtonEl.classList.remove('colab-df-spinner');\n",
              "      quickchartButtonEl.classList.add('colab-df-quickchart-complete');\n",
              "    }\n",
              "    (() => {\n",
              "      let quickchartButtonEl =\n",
              "        document.querySelector('#df-ca4367d2-4bcd-4bc2-9501-bf4c764f3bba button');\n",
              "      quickchartButtonEl.style.display =\n",
              "        google.colab.kernel.accessAllowed ? 'block' : 'none';\n",
              "    })();\n",
              "  </script>\n",
              "</div>\n",
              "    </div>\n",
              "  </div>\n"
            ]
          },
          "metadata": {},
          "execution_count": 77
        }
      ]
    },
    {
      "cell_type": "markdown",
      "source": [
        "  * Использование слоя MaxPooling2D помогает уменьшить размерность выходных данных после сверточных слоев, сохраняя при этом наиболее важные признаки.\n",
        "  * MaxPooling2D также помогает снизить количество параметров модели и уменьшить риск переобучения.\n",
        "  * Но стоит помнить, что модель может потерять некоторую информацию о расположении объектов на изображении.\n",
        "  * На наших данных увеличение размера окна пулинга ведет к снижению точности (от 79% к 75%), то есть при более большем снижении размерности мы теряем важную информацию.\n",
        "  * При увеличении размера окна модель сокращает время работы."
      ],
      "metadata": {
        "id": "1Yuu9ZwDaAJM"
      }
    },
    {
      "cell_type": "markdown",
      "source": [
        "**Исследование влияния Dropout в сети**"
      ],
      "metadata": {
        "id": "CEEG4kjAd2qz"
      }
    },
    {
      "cell_type": "code",
      "source": [
        "new_row = {'accuracy': max_accuracy, 'model': 'model_3', 'rate': '0.45'}\n",
        "dropout.loc[len(dropout)] = new_row\n",
        "dropout"
      ],
      "metadata": {
        "colab": {
          "base_uri": "https://localhost:8080/",
          "height": 143
        },
        "id": "xh-3vn03d9VJ",
        "outputId": "8cbe6672-9ad9-49d4-8935-a42362719b4f"
      },
      "execution_count": null,
      "outputs": [
        {
          "output_type": "execute_result",
          "data": {
            "text/plain": [
              "     model  rate  accuracy\n",
              "0  model_1  0.25   0.79786\n",
              "1  model_2  0.35   0.76910\n",
              "2  model_3  0.45   0.71020"
            ],
            "text/html": [
              "\n",
              "  <div id=\"df-1832cf8e-6ca1-4f5a-b05e-42b116b04381\" class=\"colab-df-container\">\n",
              "    <div>\n",
              "<style scoped>\n",
              "    .dataframe tbody tr th:only-of-type {\n",
              "        vertical-align: middle;\n",
              "    }\n",
              "\n",
              "    .dataframe tbody tr th {\n",
              "        vertical-align: top;\n",
              "    }\n",
              "\n",
              "    .dataframe thead th {\n",
              "        text-align: right;\n",
              "    }\n",
              "</style>\n",
              "<table border=\"1\" class=\"dataframe\">\n",
              "  <thead>\n",
              "    <tr style=\"text-align: right;\">\n",
              "      <th></th>\n",
              "      <th>model</th>\n",
              "      <th>rate</th>\n",
              "      <th>accuracy</th>\n",
              "    </tr>\n",
              "  </thead>\n",
              "  <tbody>\n",
              "    <tr>\n",
              "      <th>0</th>\n",
              "      <td>model_1</td>\n",
              "      <td>0.25</td>\n",
              "      <td>0.79786</td>\n",
              "    </tr>\n",
              "    <tr>\n",
              "      <th>1</th>\n",
              "      <td>model_2</td>\n",
              "      <td>0.35</td>\n",
              "      <td>0.76910</td>\n",
              "    </tr>\n",
              "    <tr>\n",
              "      <th>2</th>\n",
              "      <td>model_3</td>\n",
              "      <td>0.45</td>\n",
              "      <td>0.71020</td>\n",
              "    </tr>\n",
              "  </tbody>\n",
              "</table>\n",
              "</div>\n",
              "    <div class=\"colab-df-buttons\">\n",
              "\n",
              "  <div class=\"colab-df-container\">\n",
              "    <button class=\"colab-df-convert\" onclick=\"convertToInteractive('df-1832cf8e-6ca1-4f5a-b05e-42b116b04381')\"\n",
              "            title=\"Convert this dataframe to an interactive table.\"\n",
              "            style=\"display:none;\">\n",
              "\n",
              "  <svg xmlns=\"http://www.w3.org/2000/svg\" height=\"24px\" viewBox=\"0 -960 960 960\">\n",
              "    <path d=\"M120-120v-720h720v720H120Zm60-500h600v-160H180v160Zm220 220h160v-160H400v160Zm0 220h160v-160H400v160ZM180-400h160v-160H180v160Zm440 0h160v-160H620v160ZM180-180h160v-160H180v160Zm440 0h160v-160H620v160Z\"/>\n",
              "  </svg>\n",
              "    </button>\n",
              "\n",
              "  <style>\n",
              "    .colab-df-container {\n",
              "      display:flex;\n",
              "      gap: 12px;\n",
              "    }\n",
              "\n",
              "    .colab-df-convert {\n",
              "      background-color: #E8F0FE;\n",
              "      border: none;\n",
              "      border-radius: 50%;\n",
              "      cursor: pointer;\n",
              "      display: none;\n",
              "      fill: #1967D2;\n",
              "      height: 32px;\n",
              "      padding: 0 0 0 0;\n",
              "      width: 32px;\n",
              "    }\n",
              "\n",
              "    .colab-df-convert:hover {\n",
              "      background-color: #E2EBFA;\n",
              "      box-shadow: 0px 1px 2px rgba(60, 64, 67, 0.3), 0px 1px 3px 1px rgba(60, 64, 67, 0.15);\n",
              "      fill: #174EA6;\n",
              "    }\n",
              "\n",
              "    .colab-df-buttons div {\n",
              "      margin-bottom: 4px;\n",
              "    }\n",
              "\n",
              "    [theme=dark] .colab-df-convert {\n",
              "      background-color: #3B4455;\n",
              "      fill: #D2E3FC;\n",
              "    }\n",
              "\n",
              "    [theme=dark] .colab-df-convert:hover {\n",
              "      background-color: #434B5C;\n",
              "      box-shadow: 0px 1px 3px 1px rgba(0, 0, 0, 0.15);\n",
              "      filter: drop-shadow(0px 1px 2px rgba(0, 0, 0, 0.3));\n",
              "      fill: #FFFFFF;\n",
              "    }\n",
              "  </style>\n",
              "\n",
              "    <script>\n",
              "      const buttonEl =\n",
              "        document.querySelector('#df-1832cf8e-6ca1-4f5a-b05e-42b116b04381 button.colab-df-convert');\n",
              "      buttonEl.style.display =\n",
              "        google.colab.kernel.accessAllowed ? 'block' : 'none';\n",
              "\n",
              "      async function convertToInteractive(key) {\n",
              "        const element = document.querySelector('#df-1832cf8e-6ca1-4f5a-b05e-42b116b04381');\n",
              "        const dataTable =\n",
              "          await google.colab.kernel.invokeFunction('convertToInteractive',\n",
              "                                                    [key], {});\n",
              "        if (!dataTable) return;\n",
              "\n",
              "        const docLinkHtml = 'Like what you see? Visit the ' +\n",
              "          '<a target=\"_blank\" href=https://colab.research.google.com/notebooks/data_table.ipynb>data table notebook</a>'\n",
              "          + ' to learn more about interactive tables.';\n",
              "        element.innerHTML = '';\n",
              "        dataTable['output_type'] = 'display_data';\n",
              "        await google.colab.output.renderOutput(dataTable, element);\n",
              "        const docLink = document.createElement('div');\n",
              "        docLink.innerHTML = docLinkHtml;\n",
              "        element.appendChild(docLink);\n",
              "      }\n",
              "    </script>\n",
              "  </div>\n",
              "\n",
              "\n",
              "<div id=\"df-7b420d21-ae29-4e89-aed9-84fedccc5975\">\n",
              "  <button class=\"colab-df-quickchart\" onclick=\"quickchart('df-7b420d21-ae29-4e89-aed9-84fedccc5975')\"\n",
              "            title=\"Suggest charts.\"\n",
              "            style=\"display:none;\">\n",
              "\n",
              "<svg xmlns=\"http://www.w3.org/2000/svg\" height=\"24px\"viewBox=\"0 0 24 24\"\n",
              "     width=\"24px\">\n",
              "    <g>\n",
              "        <path d=\"M19 3H5c-1.1 0-2 .9-2 2v14c0 1.1.9 2 2 2h14c1.1 0 2-.9 2-2V5c0-1.1-.9-2-2-2zM9 17H7v-7h2v7zm4 0h-2V7h2v10zm4 0h-2v-4h2v4z\"/>\n",
              "    </g>\n",
              "</svg>\n",
              "  </button>\n",
              "\n",
              "<style>\n",
              "  .colab-df-quickchart {\n",
              "      --bg-color: #E8F0FE;\n",
              "      --fill-color: #1967D2;\n",
              "      --hover-bg-color: #E2EBFA;\n",
              "      --hover-fill-color: #174EA6;\n",
              "      --disabled-fill-color: #AAA;\n",
              "      --disabled-bg-color: #DDD;\n",
              "  }\n",
              "\n",
              "  [theme=dark] .colab-df-quickchart {\n",
              "      --bg-color: #3B4455;\n",
              "      --fill-color: #D2E3FC;\n",
              "      --hover-bg-color: #434B5C;\n",
              "      --hover-fill-color: #FFFFFF;\n",
              "      --disabled-bg-color: #3B4455;\n",
              "      --disabled-fill-color: #666;\n",
              "  }\n",
              "\n",
              "  .colab-df-quickchart {\n",
              "    background-color: var(--bg-color);\n",
              "    border: none;\n",
              "    border-radius: 50%;\n",
              "    cursor: pointer;\n",
              "    display: none;\n",
              "    fill: var(--fill-color);\n",
              "    height: 32px;\n",
              "    padding: 0;\n",
              "    width: 32px;\n",
              "  }\n",
              "\n",
              "  .colab-df-quickchart:hover {\n",
              "    background-color: var(--hover-bg-color);\n",
              "    box-shadow: 0 1px 2px rgba(60, 64, 67, 0.3), 0 1px 3px 1px rgba(60, 64, 67, 0.15);\n",
              "    fill: var(--button-hover-fill-color);\n",
              "  }\n",
              "\n",
              "  .colab-df-quickchart-complete:disabled,\n",
              "  .colab-df-quickchart-complete:disabled:hover {\n",
              "    background-color: var(--disabled-bg-color);\n",
              "    fill: var(--disabled-fill-color);\n",
              "    box-shadow: none;\n",
              "  }\n",
              "\n",
              "  .colab-df-spinner {\n",
              "    border: 2px solid var(--fill-color);\n",
              "    border-color: transparent;\n",
              "    border-bottom-color: var(--fill-color);\n",
              "    animation:\n",
              "      spin 1s steps(1) infinite;\n",
              "  }\n",
              "\n",
              "  @keyframes spin {\n",
              "    0% {\n",
              "      border-color: transparent;\n",
              "      border-bottom-color: var(--fill-color);\n",
              "      border-left-color: var(--fill-color);\n",
              "    }\n",
              "    20% {\n",
              "      border-color: transparent;\n",
              "      border-left-color: var(--fill-color);\n",
              "      border-top-color: var(--fill-color);\n",
              "    }\n",
              "    30% {\n",
              "      border-color: transparent;\n",
              "      border-left-color: var(--fill-color);\n",
              "      border-top-color: var(--fill-color);\n",
              "      border-right-color: var(--fill-color);\n",
              "    }\n",
              "    40% {\n",
              "      border-color: transparent;\n",
              "      border-right-color: var(--fill-color);\n",
              "      border-top-color: var(--fill-color);\n",
              "    }\n",
              "    60% {\n",
              "      border-color: transparent;\n",
              "      border-right-color: var(--fill-color);\n",
              "    }\n",
              "    80% {\n",
              "      border-color: transparent;\n",
              "      border-right-color: var(--fill-color);\n",
              "      border-bottom-color: var(--fill-color);\n",
              "    }\n",
              "    90% {\n",
              "      border-color: transparent;\n",
              "      border-bottom-color: var(--fill-color);\n",
              "    }\n",
              "  }\n",
              "</style>\n",
              "\n",
              "  <script>\n",
              "    async function quickchart(key) {\n",
              "      const quickchartButtonEl =\n",
              "        document.querySelector('#' + key + ' button');\n",
              "      quickchartButtonEl.disabled = true;  // To prevent multiple clicks.\n",
              "      quickchartButtonEl.classList.add('colab-df-spinner');\n",
              "      try {\n",
              "        const charts = await google.colab.kernel.invokeFunction(\n",
              "            'suggestCharts', [key], {});\n",
              "      } catch (error) {\n",
              "        console.error('Error during call to suggestCharts:', error);\n",
              "      }\n",
              "      quickchartButtonEl.classList.remove('colab-df-spinner');\n",
              "      quickchartButtonEl.classList.add('colab-df-quickchart-complete');\n",
              "    }\n",
              "    (() => {\n",
              "      let quickchartButtonEl =\n",
              "        document.querySelector('#df-7b420d21-ae29-4e89-aed9-84fedccc5975 button');\n",
              "      quickchartButtonEl.style.display =\n",
              "        google.colab.kernel.accessAllowed ? 'block' : 'none';\n",
              "    })();\n",
              "  </script>\n",
              "</div>\n",
              "    </div>\n",
              "  </div>\n"
            ]
          },
          "metadata": {},
          "execution_count": 87
        }
      ]
    },
    {
      "cell_type": "markdown",
      "source": [
        "* Использование слоя Dropout помогает бороться с проблемой переобучения, так как случайным образом отключает некоторые нейроны во время обучения.\n",
        "* Dropout позволяет модели улучшать ее обобщающую способность.\n",
        "* При использовании Dropout следует учитывать, что слишком большая величина Dropout может привести к потере информации и недообучению модели, что видно по снижению точности работы модели выше (от 79% до 71%)."
      ],
      "metadata": {
        "id": "3zH8you3e7uy"
      }
    },
    {
      "cell_type": "code",
      "source": [
        "#Распознаём все тестовые картинки\n",
        "prediction = model.predict(x_test10)"
      ],
      "metadata": {
        "colab": {
          "base_uri": "https://localhost:8080/"
        },
        "id": "z-oHPxlAI3-4",
        "outputId": "e9fcd479-4311-4e19-b0e9-3bf1e547278f"
      },
      "execution_count": null,
      "outputs": [
        {
          "output_type": "stream",
          "name": "stdout",
          "text": [
            "313/313 [==============================] - 2s 3ms/step\n"
          ]
        }
      ]
    },
    {
      "cell_type": "code",
      "source": [
        "# случайный пример\n",
        "n = np.random.randint(x_test10.shape[0])\n",
        "\n",
        "# вывод картинки на экран\n",
        "plt.imshow(Image.fromarray(x_test10[n]).convert('RGBA'))\n",
        "plt.show()\n",
        "\n",
        "print(\"Выход сети: \", prediction[n])\n",
        "print(\"Распознанный образ: \", np.argmax(prediction[n]))\n",
        "print(\"Верный ответ: \", y_test10[n])\n",
        "print(\"Распознанный образ на картинке: \", classes[np.argmax(prediction[n])])"
      ],
      "metadata": {
        "colab": {
          "base_uri": "https://localhost:8080/",
          "height": 517
        },
        "id": "64j34-fAI7zU",
        "outputId": "616deb4b-57e1-4726-b212-0e8fe2831739"
      },
      "execution_count": null,
      "outputs": [
        {
          "output_type": "display_data",
          "data": {
            "text/plain": [
              "<Figure size 640x480 with 1 Axes>"
            ],
            "image/png": "[encoded data removed]"
          },
          "metadata": {}
        },
        {
          "output_type": "stream",
          "name": "stdout",
          "text": [
            "Выход сети:  [1.1501220e-03 3.9436440e-08 9.8948216e-01 1.1150534e-03 5.2196276e-03\n",
            " 1.2077305e-03 1.8246239e-03 3.5895869e-07 2.8029095e-07 4.1164061e-08]\n",
            "Распознанный образ:  2\n",
            "Верный ответ:  [0. 0. 1. 0. 0. 0. 0. 0. 0. 0.]\n",
            "Распознанный образ на картинке:  птица\n"
          ]
        }
      ]
    },
    {
      "cell_type": "markdown",
      "source": [
        "# **Распознавание марок машин**\n",
        "\n",
        "✔ Сложный уровень сложности"
      ],
      "metadata": {
        "id": "tdloTmOThAfw"
      }
    },
    {
      "cell_type": "code",
      "source": [
        "!unzip -q \"/content/drive/MyDrive/нейросетки/базы/middle_fmr.zip\" -d /content/cars #Указываем путь к базе в Google Drive"
      ],
      "metadata": {
        "id": "VlcDigDnh2QA"
      },
      "execution_count": null,
      "outputs": []
    },
    {
      "cell_type": "code",
      "source": [
        "train_path = '/content/cars' # картинки в папках по категориям\n",
        "batch_size = 16 # размер выборки\n",
        "img_width = 92 # ширина изображения\n",
        "img_height = 52 # высота изображения"
      ],
      "metadata": {
        "id": "NYTurlEth-RK"
      },
      "execution_count": null,
      "outputs": []
    },
    {
      "cell_type": "code",
      "source": [
        "# генератор изображений\n",
        "datagen = ImageDataGenerator(\n",
        "    rescale=1./255, # значения цвета меняем на дробные показания\n",
        "    rotation_range=30, # поворачиваем изображения при генерации выборки\n",
        "    width_shift_range=0.1, # двигаем изображения по ширине при генерации выборки\n",
        "    height_shift_range=0.1, # двигаем изображения по высоте при генерации выборки\n",
        "    zoom_range=0.2, # зумируем изображения при генерации выборки\n",
        "    horizontal_flip=True, # включаем отзеркаливание изображений\n",
        "    fill_mode='nearest', # заполнение пикселей вне границ ввода\n",
        "    validation_split=0.2 # разделение изображений на обучающую и тестовую выборку\n",
        ")"
      ],
      "metadata": {
        "id": "URlxsjGmiKCu"
      },
      "execution_count": null,
      "outputs": []
    },
    {
      "cell_type": "code",
      "source": [
        "# обучающая выборка\n",
        "train_generator = datagen.flow_from_directory(\n",
        "    train_path, # путь ко всей выборке выборке\n",
        "    target_size=(img_width, img_height), # размер изображений\n",
        "    batch_size=batch_size, # размер batch_size\n",
        "    class_mode='categorical', # категориальный тип выборки (разбиение по маркам авто)\n",
        "    shuffle=True, # перемешивание выборки\n",
        "    subset='training' # набор для обучения\n",
        ")\n",
        "\n",
        "# проверочная выборка\n",
        "validation_generator = datagen.flow_from_directory(\n",
        "    train_path,\n",
        "    target_size=(img_width, img_height),\n",
        "    batch_size = batch_size,\n",
        "    class_mode='categorical',\n",
        "    shuffle=True,\n",
        "    subset='validation' # валидационный набор\n",
        ")"
      ],
      "metadata": {
        "colab": {
          "base_uri": "https://localhost:8080/"
        },
        "id": "iksNjSgIitfV",
        "outputId": "d4a056b0-9552-4d96-f619-6b087039885e"
      },
      "execution_count": null,
      "outputs": [
        {
          "output_type": "stream",
          "name": "stdout",
          "text": [
            "Found 2743 images belonging to 3 classes.\n",
            "Found 684 images belonging to 3 classes.\n"
          ]
        }
      ]
    },
    {
      "cell_type": "code",
      "source": [
        "# примеры авто из каждой категории\n",
        "\n",
        "fig, axs = plt.subplots(1, 3, figsize=(25, 5)) # 3 категории\n",
        "for i in range(3):\n",
        "  car_path = train_path + '/' + os.listdir(train_path)[i] + '/'\n",
        "  img_path = car_path + random.choice(os.listdir(car_path)) # случайное фото для отображения\n",
        "  axs[i].imshow(image.load_img(img_path, target_size=(img_height, img_width)))\n",
        "\n",
        "plt.show()"
      ],
      "metadata": {
        "colab": {
          "base_uri": "https://localhost:8080/",
          "height": 137
        },
        "id": "9nWstmQQjKyM",
        "outputId": "87748a05-3092-483d-afe8-1b724862078f"
      },
      "execution_count": null,
      "outputs": [
        {
          "output_type": "display_data",
          "data": {
            "text/plain": [
              "<Figure size 2500x500 with 3 Axes>"
            ],
            "image/png": "[encoded data removed]"
          },
          "metadata": {}
        }
      ]
    },
    {
      "cell_type": "code",
      "source": [
        "# создание нейронной сети\n",
        "\n",
        "model = Sequential()\n",
        "\n",
        "# добавление сверточных слоев\n",
        "model.add(Conv2D(32, (3, 3), padding='same', activation='relu', input_shape=(img_width, img_height, 3)))\n",
        "model.add(Conv2D(32, (3, 3), padding='same', activation='relu'))\n",
        "model.add(MaxPooling2D(pool_size=(2, 2)))\n",
        "model.add(Conv2D(64, (3, 3), padding='same', activation='relu'))\n",
        "model.add(Conv2D(64, (3, 3), padding='same', activation='relu'))\n",
        "model.add(MaxPooling2D(pool_size=(2, 2)))\n",
        "model.add(Dropout(0.2))\n",
        "model.add(Conv2D(128, (3, 3), padding='same', activation='relu'))\n",
        "model.add(Conv2D(128, (3, 3), padding='same', activation='relu'))\n",
        "model.add(Dropout(0.3))\n",
        "model.add(MaxPooling2D(pool_size=(2, 2)))\n",
        "model.add(Dropout(0.3))\n",
        "\n",
        "# слой преобразования данных из 2D представления в плоское\n",
        "model.add(Flatten())\n",
        "\n",
        "# добавление полносвязных слоев\n",
        "model.add(Dense(len(train_generator.class_indices), activation='softmax'))\n",
        "\n",
        "model.compile(loss='categorical_crossentropy', optimizer=Adam(lr=0.0001), metrics=['accuracy'])\n",
        "\n",
        "history = model.fit_generator(\n",
        "    train_generator,\n",
        "    steps_per_epoch = train_generator.samples // batch_size,\n",
        "    validation_data = validation_generator,\n",
        "    validation_steps = validation_generator.samples // batch_size,\n",
        "    epochs=70,\n",
        "    verbose=1\n",
        ")\n",
        "\n",
        "plt.plot(history.history['accuracy'],\n",
        "         label='Доля верных ответов на обучающем наборе')\n",
        "plt.plot(history.history['val_accuracy'],\n",
        "         label='Доля верных ответов на проверочном наборе')\n",
        "plt.xlabel('Эпоха обучения')\n",
        "plt.ylabel('Доля верных ответов')\n",
        "plt.legend()\n",
        "plt.show()"
      ],
      "metadata": {
        "colab": {
          "base_uri": "https://localhost:8080/",
          "height": 1000
        },
        "id": "KXrAQsEhjgRq",
        "outputId": "3c5c703a-5c60-4138-d962-df93f80bb0ea"
      },
      "execution_count": null,
      "outputs": [
        {
          "output_type": "stream",
          "name": "stderr",
          "text": [
            "WARNING:absl:`lr` is deprecated in Keras optimizer, please use `learning_rate` or use the legacy optimizer, e.g.,tf.keras.optimizers.legacy.Adam.\n",
            "<ipython-input-11-da14f6dc12d2>:27: UserWarning: `Model.fit_generator` is deprecated and will be removed in a future version. Please use `Model.fit`, which supports generators.\n",
            "  history = model.fit_generator(\n"
          ]
        },
        {
          "output_type": "stream",
          "name": "stdout",
          "text": [
            "Epoch 1/70\n",
            "171/171 [==============================] - 18s 87ms/step - loss: 1.0017 - accuracy: 0.4642 - val_loss: 0.9734 - val_accuracy: 0.4955\n",
            "Epoch 2/70\n",
            "171/171 [==============================] - 11s 67ms/step - loss: 0.9339 - accuracy: 0.5431 - val_loss: 0.9434 - val_accuracy: 0.5342\n",
            "Epoch 3/70\n",
            "171/171 [==============================] - 12s 68ms/step - loss: 0.9122 - accuracy: 0.5651 - val_loss: 0.9594 - val_accuracy: 0.5432\n",
            "Epoch 4/70\n",
            "171/171 [==============================] - 13s 77ms/step - loss: 0.8966 - accuracy: 0.5787 - val_loss: 0.9221 - val_accuracy: 0.5372\n",
            "Epoch 5/70\n",
            "171/171 [==============================] - 13s 77ms/step - loss: 0.8694 - accuracy: 0.6043 - val_loss: 0.9562 - val_accuracy: 0.5387\n",
            "Epoch 6/70\n",
            "171/171 [==============================] - 16s 91ms/step - loss: 0.8599 - accuracy: 0.6036 - val_loss: 0.9306 - val_accuracy: 0.5476\n",
            "Epoch 7/70\n",
            "171/171 [==============================] - 14s 82ms/step - loss: 0.8542 - accuracy: 0.5937 - val_loss: 0.9034 - val_accuracy: 0.5655\n",
            "Epoch 8/70\n",
            "171/171 [==============================] - 14s 81ms/step - loss: 0.8327 - accuracy: 0.6135 - val_loss: 0.9125 - val_accuracy: 0.5774\n",
            "Epoch 9/70\n",
            "171/171 [==============================] - 11s 66ms/step - loss: 0.8397 - accuracy: 0.5948 - val_loss: 0.9234 - val_accuracy: 0.5833\n",
            "Epoch 10/70\n",
            "171/171 [==============================] - 12s 72ms/step - loss: 0.8169 - accuracy: 0.6318 - val_loss: 0.9407 - val_accuracy: 0.5625\n",
            "Epoch 11/70\n",
            "171/171 [==============================] - 14s 82ms/step - loss: 0.8036 - accuracy: 0.6208 - val_loss: 0.9079 - val_accuracy: 0.5774\n",
            "Epoch 12/70\n",
            "171/171 [==============================] - 11s 66ms/step - loss: 0.8133 - accuracy: 0.6263 - val_loss: 0.8742 - val_accuracy: 0.6086\n",
            "Epoch 13/70\n",
            "171/171 [==============================] - 10s 58ms/step - loss: 0.7939 - accuracy: 0.6377 - val_loss: 0.9009 - val_accuracy: 0.5804\n",
            "Epoch 14/70\n",
            "171/171 [==============================] - 12s 72ms/step - loss: 0.7662 - accuracy: 0.6509 - val_loss: 0.8851 - val_accuracy: 0.5714\n",
            "Epoch 15/70\n",
            "171/171 [==============================] - 12s 72ms/step - loss: 0.7574 - accuracy: 0.6615 - val_loss: 0.8784 - val_accuracy: 0.6057\n",
            "Epoch 16/70\n",
            "171/171 [==============================] - 12s 73ms/step - loss: 0.7712 - accuracy: 0.6615 - val_loss: 0.8926 - val_accuracy: 0.5833\n",
            "Epoch 17/70\n",
            "171/171 [==============================] - 12s 68ms/step - loss: 0.7487 - accuracy: 0.6568 - val_loss: 0.8441 - val_accuracy: 0.6354\n",
            "Epoch 18/70\n",
            "171/171 [==============================] - 11s 63ms/step - loss: 0.7433 - accuracy: 0.6641 - val_loss: 0.8476 - val_accuracy: 0.6220\n",
            "Epoch 19/70\n",
            "171/171 [==============================] - 12s 68ms/step - loss: 0.7342 - accuracy: 0.6758 - val_loss: 0.8087 - val_accuracy: 0.6577\n",
            "Epoch 20/70\n",
            "171/171 [==============================] - 11s 66ms/step - loss: 0.7230 - accuracy: 0.6876 - val_loss: 0.8066 - val_accuracy: 0.6533\n",
            "Epoch 21/70\n",
            "171/171 [==============================] - 12s 72ms/step - loss: 0.7261 - accuracy: 0.6843 - val_loss: 0.8439 - val_accuracy: 0.6280\n",
            "Epoch 22/70\n",
            "171/171 [==============================] - 12s 68ms/step - loss: 0.7090 - accuracy: 0.6923 - val_loss: 0.7994 - val_accuracy: 0.6488\n",
            "Epoch 23/70\n",
            "171/171 [==============================] - 11s 62ms/step - loss: 0.7068 - accuracy: 0.7008 - val_loss: 0.8191 - val_accuracy: 0.6250\n",
            "Epoch 24/70\n",
            "171/171 [==============================] - 10s 61ms/step - loss: 0.6874 - accuracy: 0.7011 - val_loss: 0.7995 - val_accuracy: 0.6577\n",
            "Epoch 25/70\n",
            "171/171 [==============================] - 12s 68ms/step - loss: 0.7002 - accuracy: 0.6953 - val_loss: 0.8377 - val_accuracy: 0.6205\n",
            "Epoch 26/70\n",
            "171/171 [==============================] - 11s 62ms/step - loss: 0.6750 - accuracy: 0.7151 - val_loss: 0.8026 - val_accuracy: 0.6384\n",
            "Epoch 27/70\n",
            "171/171 [==============================] - 11s 62ms/step - loss: 0.6591 - accuracy: 0.7059 - val_loss: 0.8354 - val_accuracy: 0.6295\n",
            "Epoch 28/70\n",
            "171/171 [==============================] - 12s 71ms/step - loss: 0.6509 - accuracy: 0.7187 - val_loss: 0.8151 - val_accuracy: 0.6548\n",
            "Epoch 29/70\n",
            "171/171 [==============================] - 13s 77ms/step - loss: 0.6516 - accuracy: 0.7191 - val_loss: 0.8224 - val_accuracy: 0.6295\n",
            "Epoch 30/70\n",
            "171/171 [==============================] - 13s 78ms/step - loss: 0.6510 - accuracy: 0.7198 - val_loss: 0.8012 - val_accuracy: 0.6488\n",
            "Epoch 31/70\n",
            "171/171 [==============================] - 13s 73ms/step - loss: 0.6346 - accuracy: 0.7426 - val_loss: 0.8670 - val_accuracy: 0.6443\n",
            "Epoch 32/70\n",
            "171/171 [==============================] - 12s 73ms/step - loss: 0.6378 - accuracy: 0.7294 - val_loss: 0.7585 - val_accuracy: 0.6667\n",
            "Epoch 33/70\n",
            "171/171 [==============================] - 11s 67ms/step - loss: 0.6180 - accuracy: 0.7385 - val_loss: 0.8189 - val_accuracy: 0.6429\n",
            "Epoch 34/70\n",
            "171/171 [==============================] - 13s 77ms/step - loss: 0.6252 - accuracy: 0.7374 - val_loss: 0.8172 - val_accuracy: 0.6682\n",
            "Epoch 35/70\n",
            "171/171 [==============================] - 13s 76ms/step - loss: 0.6306 - accuracy: 0.7319 - val_loss: 0.7881 - val_accuracy: 0.6622\n",
            "Epoch 36/70\n",
            "171/171 [==============================] - 10s 58ms/step - loss: 0.5980 - accuracy: 0.7517 - val_loss: 0.7952 - val_accuracy: 0.6488\n",
            "Epoch 37/70\n",
            "171/171 [==============================] - 11s 67ms/step - loss: 0.6068 - accuracy: 0.7503 - val_loss: 0.7940 - val_accuracy: 0.6696\n",
            "Epoch 38/70\n",
            "171/171 [==============================] - 11s 66ms/step - loss: 0.5992 - accuracy: 0.7550 - val_loss: 0.7581 - val_accuracy: 0.6607\n",
            "Epoch 39/70\n",
            "171/171 [==============================] - 13s 77ms/step - loss: 0.5962 - accuracy: 0.7506 - val_loss: 0.7844 - val_accuracy: 0.6518\n",
            "Epoch 40/70\n",
            "171/171 [==============================] - 11s 64ms/step - loss: 0.5959 - accuracy: 0.7448 - val_loss: 0.7612 - val_accuracy: 0.6711\n",
            "Epoch 41/70\n",
            "171/171 [==============================] - 12s 71ms/step - loss: 0.5753 - accuracy: 0.7591 - val_loss: 0.7353 - val_accuracy: 0.6979\n",
            "Epoch 42/70\n",
            "171/171 [==============================] - 12s 71ms/step - loss: 0.5730 - accuracy: 0.7638 - val_loss: 0.7935 - val_accuracy: 0.6622\n",
            "Epoch 43/70\n",
            "171/171 [==============================] - 11s 67ms/step - loss: 0.5756 - accuracy: 0.7609 - val_loss: 0.8165 - val_accuracy: 0.6488\n",
            "Epoch 44/70\n",
            "171/171 [==============================] - 12s 69ms/step - loss: 0.5728 - accuracy: 0.7605 - val_loss: 0.7527 - val_accuracy: 0.6830\n",
            "Epoch 45/70\n",
            "171/171 [==============================] - 11s 67ms/step - loss: 0.5714 - accuracy: 0.7451 - val_loss: 0.7589 - val_accuracy: 0.6905\n",
            "Epoch 46/70\n",
            "171/171 [==============================] - 11s 63ms/step - loss: 0.5611 - accuracy: 0.7675 - val_loss: 0.8037 - val_accuracy: 0.6711\n",
            "Epoch 47/70\n",
            "171/171 [==============================] - 11s 66ms/step - loss: 0.5630 - accuracy: 0.7653 - val_loss: 0.7631 - val_accuracy: 0.6860\n",
            "Epoch 48/70\n",
            "171/171 [==============================] - 13s 75ms/step - loss: 0.5417 - accuracy: 0.7646 - val_loss: 0.7853 - val_accuracy: 0.6830\n",
            "Epoch 49/70\n",
            "171/171 [==============================] - 18s 107ms/step - loss: 0.5462 - accuracy: 0.7763 - val_loss: 0.7592 - val_accuracy: 0.6920\n",
            "Epoch 50/70\n",
            "171/171 [==============================] - 14s 81ms/step - loss: 0.5404 - accuracy: 0.7726 - val_loss: 0.7831 - val_accuracy: 0.6830\n",
            "Epoch 51/70\n",
            "171/171 [==============================] - 14s 81ms/step - loss: 0.5431 - accuracy: 0.7726 - val_loss: 0.7422 - val_accuracy: 0.6771\n",
            "Epoch 52/70\n",
            "171/171 [==============================] - 15s 87ms/step - loss: 0.5148 - accuracy: 0.7862 - val_loss: 0.7148 - val_accuracy: 0.6771\n",
            "Epoch 53/70\n",
            "171/171 [==============================] - 10s 61ms/step - loss: 0.5313 - accuracy: 0.7792 - val_loss: 0.7536 - val_accuracy: 0.6949\n",
            "Epoch 54/70\n",
            "171/171 [==============================] - 11s 62ms/step - loss: 0.5269 - accuracy: 0.7873 - val_loss: 0.7009 - val_accuracy: 0.6830\n",
            "Epoch 55/70\n",
            "171/171 [==============================] - 11s 66ms/step - loss: 0.5167 - accuracy: 0.7965 - val_loss: 0.7449 - val_accuracy: 0.6726\n",
            "Epoch 56/70\n",
            "171/171 [==============================] - 13s 79ms/step - loss: 0.5282 - accuracy: 0.7818 - val_loss: 0.7732 - val_accuracy: 0.6637\n",
            "Epoch 57/70\n",
            "171/171 [==============================] - 11s 63ms/step - loss: 0.5177 - accuracy: 0.7869 - val_loss: 0.8542 - val_accuracy: 0.6786\n",
            "Epoch 58/70\n",
            "171/171 [==============================] - 11s 65ms/step - loss: 0.5066 - accuracy: 0.7946 - val_loss: 0.7941 - val_accuracy: 0.6682\n",
            "Epoch 59/70\n",
            "171/171 [==============================] - 12s 71ms/step - loss: 0.4997 - accuracy: 0.8038 - val_loss: 0.8565 - val_accuracy: 0.6622\n",
            "Epoch 60/70\n",
            "171/171 [==============================] - 13s 74ms/step - loss: 0.5138 - accuracy: 0.7880 - val_loss: 0.7921 - val_accuracy: 0.6786\n",
            "Epoch 61/70\n",
            "171/171 [==============================] - 12s 68ms/step - loss: 0.5258 - accuracy: 0.7781 - val_loss: 0.8345 - val_accuracy: 0.6815\n",
            "Epoch 62/70\n",
            "171/171 [==============================] - 10s 57ms/step - loss: 0.4946 - accuracy: 0.7987 - val_loss: 0.8337 - val_accuracy: 0.6652\n",
            "Epoch 63/70\n",
            "171/171 [==============================] - 12s 69ms/step - loss: 0.4906 - accuracy: 0.7987 - val_loss: 0.7259 - val_accuracy: 0.7217\n",
            "Epoch 64/70\n",
            "171/171 [==============================] - 12s 72ms/step - loss: 0.5131 - accuracy: 0.7946 - val_loss: 0.7412 - val_accuracy: 0.6711\n",
            "Epoch 65/70\n",
            "171/171 [==============================] - 14s 83ms/step - loss: 0.5124 - accuracy: 0.7844 - val_loss: 0.7331 - val_accuracy: 0.6786\n",
            "Epoch 66/70\n",
            "171/171 [==============================] - 13s 75ms/step - loss: 0.4991 - accuracy: 0.7965 - val_loss: 0.7699 - val_accuracy: 0.6696\n",
            "Epoch 67/70\n",
            "171/171 [==============================] - 12s 68ms/step - loss: 0.4870 - accuracy: 0.7972 - val_loss: 0.7318 - val_accuracy: 0.7009\n",
            "Epoch 68/70\n",
            "171/171 [==============================] - 11s 62ms/step - loss: 0.4798 - accuracy: 0.8027 - val_loss: 0.7893 - val_accuracy: 0.6964\n",
            "Epoch 69/70\n",
            "171/171 [==============================] - 11s 67ms/step - loss: 0.4709 - accuracy: 0.7957 - val_loss: 0.7340 - val_accuracy: 0.6964\n",
            "Epoch 70/70\n",
            "171/171 [==============================] - 11s 67ms/step - loss: 0.4817 - accuracy: 0.8016 - val_loss: 0.7704 - val_accuracy: 0.6786\n"
          ]
        },
        {
          "output_type": "display_data",
          "data": {
            "text/plain": [
              "<Figure size 640x480 with 1 Axes>"
            ],
            "image/png": "[encoded data removed]"
          },
          "metadata": {}
        }
      ]
    },
    {
      "cell_type": "code",
      "source": [
        "# поиск максимального показателя точности\n",
        "accuracy = history.history['accuracy']\n",
        "max_accuracy = max(accuracy)\n",
        "max_accuracy_index = accuracy.index(max(accuracy))\n",
        "max_accuracy = accuracy[max_accuracy_index]\n",
        "print(f'Точность работы модели: {round((max_accuracy), 2)*100}%')"
      ],
      "metadata": {
        "colab": {
          "base_uri": "https://localhost:8080/"
        },
        "id": "u7hAH07Rjlw_",
        "outputId": "46dca5ba-75d7-4157-de12-c153840edf61"
      },
      "execution_count": null,
      "outputs": [
        {
          "output_type": "stream",
          "name": "stdout",
          "text": [
            "Точность работы модели: 80.0%\n"
          ]
        }
      ]
    },
    {
      "cell_type": "code",
      "source": [
        "model.save('cars.80')"
      ],
      "metadata": {
        "id": "01hj0w1285QR"
      },
      "execution_count": null,
      "outputs": []
    },
    {
      "cell_type": "markdown",
      "source": [
        "**Способы поднятия показателя точности (57% --> 80%):**\n",
        "\n",
        "\n",
        "* Изменение размера пакета, передаваемого в нейронную сеть одновременно для обновления весов (**batch_size**): уменьшение показетеля с 25 до 16; маленький пакет помогает модели лучше генерализировать данные; видно, что такой ход помог в работе с небольшим количеством данных, но потребовалось больше эпох для достижения результата;\n",
        "* **Аугментация данных**: увеличение показателей, влияющих на сдвиг по ширине и высоте изображения, зуммировование;  \n",
        "*   Увеличение **количества сверточных слоев** перед слоем преобразования данных в плоское представление;\n",
        "* Изменение **количества нейронов** в слоях;\n",
        "* Уменьшение **количества фильтров** в сверточных слоях;\n",
        "* Изменение параметра **Dropout**: увеличение (30%) в целях уменьшения переобучения модел;\n",
        "* **Изменение оптимизатора** (RMSprop) и обучающего шага дало отрицательный результ;\n",
        "* Увеличение **количества эпох** обучения, что дает больше времени для обучения и сходимости.\n",
        "\n"
      ],
      "metadata": {
        "id": "6yNQWK46SWbz"
      }
    }
  ],
  "metadata": {
    "accelerator": "GPU",
    "colab": {
      "provenance": [],
      "gpuType": "T4"
    },
    "kernelspec": {
      "display_name": "Python 3",
      "name": "python3"
    },
    "language_info": {
      "name": "python"
    }
  },
  "nbformat": 4,
  "nbformat_minor": 0
}